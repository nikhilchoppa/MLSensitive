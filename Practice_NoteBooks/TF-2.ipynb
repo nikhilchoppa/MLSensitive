{
 "cells": [
  {
   "cell_type": "markdown",
   "id": "c48629b1-7c43-4d06-8367-34369718281e",
   "metadata": {},
   "source": [
    "# Functional API"
   ]
  },
  {
   "cell_type": "code",
   "execution_count": 4,
   "id": "21b5a0f3-be80-40e0-a685-863c25d43d70",
   "metadata": {},
   "outputs": [],
   "source": [
    "import tensorflow as tf"
   ]
  },
  {
   "cell_type": "code",
   "execution_count": 5,
   "id": "f86f8f76-388f-4bd7-94da-f6192920ae4e",
   "metadata": {},
   "outputs": [],
   "source": [
    "# define the input layer\n",
    "\n",
    "input_tensor = tf.keras.layers.Input(shape= (10, ), dtype = 'int32')"
   ]
  },
  {
   "cell_type": "code",
   "execution_count": 6,
   "id": "5b383372-3782-4ed9-b1b2-c97b7f535e9a",
   "metadata": {},
   "outputs": [],
   "source": [
    "# setup network layers (these match to what we built in sequential model before)\n",
    "\n",
    "x = tf.keras.layers.Dense(32, activation='relu')(input_tensor)\n",
    "y = tf.keras.layers.Dense(2, activation='softmax')(x)"
   ]
  },
  {
   "cell_type": "code",
   "execution_count": 8,
   "id": "1ef5ad7d-003f-491b-811f-a0494cdcca2e",
   "metadata": {},
   "outputs": [],
   "source": [
    "# then we initialize the model with our input and output tensors\n",
    "model = tf.keras.Model(inputs=input_tensor, outputs=y)"
   ]
  },
  {
   "cell_type": "code",
   "execution_count": 9,
   "id": "dea63309-8d8f-4262-916e-25aed6681b33",
   "metadata": {},
   "outputs": [
    {
     "name": "stdout",
     "output_type": "stream",
     "text": [
      "Model: \"model\"\n",
      "_________________________________________________________________\n",
      " Layer (type)                Output Shape              Param #   \n",
      "=================================================================\n",
      " input_2 (InputLayer)        [(None, 10)]              0         \n",
      "                                                                 \n",
      " dense_2 (Dense)             (None, 32)                352       \n",
      "                                                                 \n",
      " dense_3 (Dense)             (None, 2)                 66        \n",
      "                                                                 \n",
      "=================================================================\n",
      "Total params: 418\n",
      "Trainable params: 418\n",
      "Non-trainable params: 0\n",
      "_________________________________________________________________\n"
     ]
    }
   ],
   "source": [
    "model.summary()"
   ]
  },
  {
   "cell_type": "markdown",
   "id": "cd0dbd58-7457-4f07-8aa7-8cf26e2016e9",
   "metadata": {},
   "source": [
    "# Training Parameters and Compile"
   ]
  },
  {
   "cell_type": "code",
   "execution_count": 10,
   "id": "25ed7704-6d3a-4fd9-9d01-d705c9887982",
   "metadata": {},
   "outputs": [],
   "source": [
    "optimizer = tf.keras.optimizers.Adam(0.01)"
   ]
  },
  {
   "cell_type": "code",
   "execution_count": 13,
   "id": "d17837b9-784c-44c5-86a4-19cdc373b503",
   "metadata": {},
   "outputs": [],
   "source": [
    "loss = tf.keras.losses.CategoricalCrossentropy()"
   ]
  },
  {
   "cell_type": "code",
   "execution_count": 14,
   "id": "02784d40-a2b0-48fb-a3e4-c915bec0ccb6",
   "metadata": {},
   "outputs": [],
   "source": [
    "acc = tf.keras.metrics.CategoricalAccuracy('accuracy') # [0 ,0, 1] = 0.75"
   ]
  },
  {
   "cell_type": "code",
   "execution_count": 15,
   "id": "7d419b92-3cb9-4f9b-88d9-85bb50dfea06",
   "metadata": {},
   "outputs": [],
   "source": [
    "model.compile(optimizer, loss=loss, metrics= [acc])"
   ]
  },
  {
   "cell_type": "code",
   "execution_count": null,
   "id": "fc43b633-d079-4f19-9e85-886ae384b13b",
   "metadata": {},
   "outputs": [],
   "source": []
  }
 ],
 "metadata": {
  "kernelspec": {
   "display_name": "ML environment",
   "language": "python",
   "name": "mlenv"
  },
  "language_info": {
   "codemirror_mode": {
    "name": "ipython",
    "version": 3
   },
   "file_extension": ".py",
   "mimetype": "text/x-python",
   "name": "python",
   "nbconvert_exporter": "python",
   "pygments_lexer": "ipython3",
   "version": "3.10.4"
  }
 },
 "nbformat": 4,
 "nbformat_minor": 5
}
