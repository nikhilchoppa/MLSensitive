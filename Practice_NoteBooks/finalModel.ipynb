{
 "cells": [
  {
   "cell_type": "code",
   "execution_count": 6,
   "id": "fed76a45-8b91-4836-a7d6-76d173a22651",
   "metadata": {},
   "outputs": [],
   "source": [
    "# Import \n",
    "import pandas as pd"
   ]
  },
  {
   "cell_type": "code",
   "execution_count": null,
   "id": "975a7d53-c3c8-4452-98c1-185fb0f0a080",
   "metadata": {},
   "outputs": [],
   "source": [
    "df = pd.read_csv('', encoding='ISO-8859-1', names=)"
   ]
  }
 ],
 "metadata": {
  "kernelspec": {
   "display_name": "ML environment",
   "language": "python",
   "name": "mlenv"
  },
  "language_info": {
   "codemirror_mode": {
    "name": "ipython",
    "version": 3
   },
   "file_extension": ".py",
   "mimetype": "text/x-python",
   "name": "python",
   "nbconvert_exporter": "python",
   "pygments_lexer": "ipython3",
   "version": "3.10.4"
  }
 },
 "nbformat": 4,
 "nbformat_minor": 5
}
