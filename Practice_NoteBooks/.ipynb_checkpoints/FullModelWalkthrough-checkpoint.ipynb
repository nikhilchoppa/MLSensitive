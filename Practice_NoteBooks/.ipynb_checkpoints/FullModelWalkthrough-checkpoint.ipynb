{
 "cells": [
  {
   "cell_type": "code",
   "execution_count": 1,
   "id": "829e442e-4397-47b6-bff5-343f34b55cce",
   "metadata": {},
   "outputs": [],
   "source": [
    "import pandas as pd\n",
    "import numpy as np"
   ]
  },
  {
   "cell_type": "code",
   "execution_count": 3,
   "id": "d1f83cee-b942-495d-a104-78cc0a497f8f",
   "metadata": {},
   "outputs": [
    {
     "data": {
      "text/html": [
       "<div>\n",
       "<style scoped>\n",
       "    .dataframe tbody tr th:only-of-type {\n",
       "        vertical-align: middle;\n",
       "    }\n",
       "\n",
       "    .dataframe tbody tr th {\n",
       "        vertical-align: top;\n",
       "    }\n",
       "\n",
       "    .dataframe thead th {\n",
       "        text-align: right;\n",
       "    }\n",
       "</style>\n",
       "<table border=\"1\" class=\"dataframe\">\n",
       "  <thead>\n",
       "    <tr style=\"text-align: right;\">\n",
       "      <th></th>\n",
       "      <th>Date</th>\n",
       "      <th>Price</th>\n",
       "      <th>Open</th>\n",
       "      <th>High</th>\n",
       "      <th>Low</th>\n",
       "      <th>Vol.</th>\n",
       "      <th>Change %</th>\n",
       "    </tr>\n",
       "  </thead>\n",
       "  <tbody>\n",
       "    <tr>\n",
       "      <th>0</th>\n",
       "      <td>04/01/2021</td>\n",
       "      <td>252.18</td>\n",
       "      <td>238.47</td>\n",
       "      <td>263.19</td>\n",
       "      <td>238.05</td>\n",
       "      <td>568.70M</td>\n",
       "      <td>6.96%</td>\n",
       "    </tr>\n",
       "    <tr>\n",
       "      <th>1</th>\n",
       "      <td>05/01/2021</td>\n",
       "      <td>249.68</td>\n",
       "      <td>253.40</td>\n",
       "      <td>254.35</td>\n",
       "      <td>238.07</td>\n",
       "      <td>495.09M</td>\n",
       "      <td>-0.99%</td>\n",
       "    </tr>\n",
       "    <tr>\n",
       "      <th>2</th>\n",
       "      <td>06/01/2021</td>\n",
       "      <td>270.90</td>\n",
       "      <td>251.23</td>\n",
       "      <td>271.65</td>\n",
       "      <td>243.00</td>\n",
       "      <td>508.57M</td>\n",
       "      <td>8.50%</td>\n",
       "    </tr>\n",
       "    <tr>\n",
       "      <th>3</th>\n",
       "      <td>07/01/2021</td>\n",
       "      <td>284.91</td>\n",
       "      <td>269.61</td>\n",
       "      <td>290.15</td>\n",
       "      <td>269.60</td>\n",
       "      <td>522.69M</td>\n",
       "      <td>5.17%</td>\n",
       "    </tr>\n",
       "    <tr>\n",
       "      <th>4</th>\n",
       "      <td>08/01/2021</td>\n",
       "      <td>301.88</td>\n",
       "      <td>286.36</td>\n",
       "      <td>305.84</td>\n",
       "      <td>283.74</td>\n",
       "      <td>441.33M</td>\n",
       "      <td>5.96%</td>\n",
       "    </tr>\n",
       "  </tbody>\n",
       "</table>\n",
       "</div>"
      ],
      "text/plain": [
       "         Date   Price    Open    High     Low     Vol. Change %\n",
       "0  04/01/2021  252.18  238.47  263.19  238.05  568.70M    6.96%\n",
       "1  05/01/2021  249.68  253.40  254.35  238.07  495.09M   -0.99%\n",
       "2  06/01/2021  270.90  251.23  271.65  243.00  508.57M    8.50%\n",
       "3  07/01/2021  284.91  269.61  290.15  269.60  522.69M    5.17%\n",
       "4  08/01/2021  301.88  286.36  305.84  283.74  441.33M    5.96%"
      ]
     },
     "execution_count": 3,
     "metadata": {},
     "output_type": "execute_result"
    }
   ],
   "source": [
    "data = pd.read_csv('MSFTData.csv')\n",
    "data.head()"
   ]
  },
  {
   "cell_type": "code",
   "execution_count": 7,
   "id": "31dad0d3-2977-41fd-845f-d278fee906a2",
   "metadata": {},
   "outputs": [
    {
     "data": {
      "text/plain": [
       "array(['6.96%', '-0.99%', '8.50%', '5.17%', '5.96%', '-6.61%', '17.63%',\n",
       "       '-0.31%', '1.73%', '-7.53%', '-3.92%', '3.19%', '-9.99%', '-2.04%',\n",
       "       '-5.53%', '9.31%', '-6.86%', '-10.93%', '-0.33%', '9.91%',\n",
       "       '-6.00%', '3.33%', '0.65%', '11.32%'], dtype=object)"
      ]
     },
     "execution_count": 7,
     "metadata": {},
     "output_type": "execute_result"
    }
   ],
   "source": [
    "data['Change %'].unique()"
   ]
  },
  {
   "cell_type": "code",
   "execution_count": null,
   "id": "8bc73a9d-62d9-4ebd-82e3-c72cdc73c06a",
   "metadata": {},
   "outputs": [],
   "source": [
    "# Normalize pclass\n",
    "pclass_max = dara"
   ]
  }
 ],
 "metadata": {
  "kernelspec": {
   "display_name": "ML environment",
   "language": "python",
   "name": "mlenv"
  },
  "language_info": {
   "codemirror_mode": {
    "name": "ipython",
    "version": 3
   },
   "file_extension": ".py",
   "mimetype": "text/x-python",
   "name": "python",
   "nbconvert_exporter": "python",
   "pygments_lexer": "ipython3",
   "version": "3.10.4"
  }
 },
 "nbformat": 4,
 "nbformat_minor": 5
}
