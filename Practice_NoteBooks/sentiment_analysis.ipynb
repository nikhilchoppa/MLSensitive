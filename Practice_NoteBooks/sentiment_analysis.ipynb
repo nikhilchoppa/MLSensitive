{
 "cells": [
  {
   "cell_type": "code",
   "execution_count": 1,
   "id": "8f91e0a6-1ce0-4566-abe4-08058bc3bfac",
   "metadata": {},
   "outputs": [],
   "source": [
    "import pandas as pd\n",
    "import flair"
   ]
  },
  {
   "cell_type": "markdown",
   "id": "0f3d8068-7f6a-467e-b026-22c7151bd1fd",
   "metadata": {},
   "source": [
    "`Flair` provides many built-in, state-of-the-art language model\n",
    "- To install flair. Follow this:\n",
    "```\n",
    "conda create -n flair -c conda-forge -c bioconda flair\n",
    "conda activate flair\n",
    "flair [align/correct/...]\n",
    "\n",
    "```\n",
    "\n",
    "we will be using the English sentiment classifier\n",
    "- character-level embedding (no OOV tokens)\n",
    "- Transformer nased language model (DistilBERT)"
   ]
  },
  {
   "cell_type": "code",
   "execution_count": 2,
   "id": "a04b5b77-e33b-438b-8782-e82700764ede",
   "metadata": {},
   "outputs": [
    {
     "name": "stdout",
     "output_type": "stream",
     "text": [
      "2023-04-10 23:01:44,629 loading file /Users/nikhilsaireddychoppa/.flair/models/sentiment-en-mix-distillbert_4.pt\n"
     ]
    }
   ],
   "source": [
    "sentiment_model = flair.models.TextClassifier.load('en-sentiment')"
   ]
  },
  {
   "cell_type": "markdown",
   "id": "647cb43f-266c-47be-8a7f-ff58361d56b3",
   "metadata": {},
   "source": [
    "- Load our tweets"
   ]
  },
  {
   "cell_type": "code",
   "execution_count": 3,
   "id": "a75c7222-a414-419c-ad95-faeeecfd2e12",
   "metadata": {},
   "outputs": [
    {
     "data": {
      "text/plain": [
       "16125"
      ]
     },
     "execution_count": 3,
     "metadata": {},
     "output_type": "execute_result"
    }
   ],
   "source": [
    "tweets = pd.read_csv('tesla_tweets.csv', sep='|')\n",
    "len(tweets)"
   ]
  },
  {
   "cell_type": "markdown",
   "id": "71c806da-1351-4ed0-b881-21bb8db7bd8a",
   "metadata": {},
   "source": [
    "To perform sentemental analysis, we create a `Sentence` object from a string -> then call `predict` method from our Flair model."
   ]
  },
  {
   "cell_type": "code",
   "execution_count": 4,
   "id": "44b2d703-2bd0-4a23-8a67-16f38623c5c2",
   "metadata": {},
   "outputs": [
    {
     "data": {
      "text/plain": [
       "Sentence: \"RT @ nytimes : Elon Musk 's many tweaks to Twitter have resulted in a clunkier and less predictable experience , some users say . Even Twitter 's …\""
      ]
     },
     "execution_count": 4,
     "metadata": {},
     "output_type": "execute_result"
    }
   ],
   "source": [
    "sentence = flair.data.Sentence(tweets['text'].iloc[0])\n",
    "sentence"
   ]
  },
  {
   "cell_type": "code",
   "execution_count": 5,
   "id": "96d052cf-3630-4729-9314-a922be84e35f",
   "metadata": {},
   "outputs": [],
   "source": [
    "sentiment_model.predict(sentence)"
   ]
  },
  {
   "cell_type": "markdown",
   "id": "339a17ff-7f14-4a77-b464-2f3533d99df7",
   "metadata": {},
   "source": [
    "The `predict` method modifies the `Sentense` object"
   ]
  },
  {
   "cell_type": "code",
   "execution_count": 6,
   "id": "19f08c81-0f33-49d1-9023-3a42fc11ec14",
   "metadata": {},
   "outputs": [
    {
     "data": {
      "text/plain": [
       "Sentence: \"RT @ nytimes : Elon Musk 's many tweaks to Twitter have resulted in a clunkier and less predictable experience , some users say . Even Twitter 's …\" → NEGATIVE (0.6028)"
      ]
     },
     "execution_count": 6,
     "metadata": {},
     "output_type": "execute_result"
    }
   ],
   "source": [
    "sentence"
   ]
  },
  {
   "cell_type": "markdown",
   "id": "0f504fd9-bfc0-49c9-a5fd-fa0b811ed795",
   "metadata": {},
   "source": [
    "We are given two new metrics:\n",
    "1. Sentiment - this is either 'POSITIVE' or 'NEGATIVE'\n",
    "2. Confidence/probability - how likely this sentiment is to be correct, from 0-1\n",
    "\n",
    "- we can call `help(sentense)` to see what methods are available to us - `get_labels()` or `labels`"
   ]
  },
  {
   "cell_type": "code",
   "execution_count": 7,
   "id": "4d9b0fd7-2780-4ecf-b418-c0bf93014a7e",
   "metadata": {
    "tags": []
   },
   "outputs": [
    {
     "name": "stdout",
     "output_type": "stream",
     "text": [
      "Help on Sentence in module flair.data object:\n",
      "\n",
      "class Sentence(DataPoint)\n",
      " |  Sentence(text: Union[str, List[str]], use_tokenizer: Union[bool, flair.data.Tokenizer] = True, language_code: str = None, start_position: int = 0)\n",
      " |  \n",
      " |  A Sentence is a list of tokens and is used to represent a sentence or text fragment.\n",
      " |  \n",
      " |  Method resolution order:\n",
      " |      Sentence\n",
      " |      DataPoint\n",
      " |      builtins.object\n",
      " |  \n",
      " |  Methods defined here:\n",
      " |  \n",
      " |  __copy__(self)\n",
      " |  \n",
      " |  __getitem__(self, subscript)\n",
      " |  \n",
      " |  __init__(self, text: Union[str, List[str]], use_tokenizer: Union[bool, flair.data.Tokenizer] = True, language_code: str = None, start_position: int = 0)\n",
      " |      Class to hold all meta related to a text (tokens, predictions, language code, ...)\n",
      " |      :param text: original string (sentence), or a list of string tokens (words)\n",
      " |      :param use_tokenizer: a custom tokenizer (default is :class:`SpaceTokenizer`)\n",
      " |          more advanced options are :class:`SegTokTokenizer` to use segtok or :class:`SpacyTokenizer`\n",
      " |          to use Spacy library if available). Check the implementations of abstract class Tokenizer or\n",
      " |          implement your own subclass (if you need it). If instead of providing a Tokenizer, this parameter\n",
      " |          is just set to True (deprecated), :class:`SegtokTokenizer` will be used.\n",
      " |      :param language_code: Language of the sentence\n",
      " |      :param start_position: Start char offset of the sentence in the superordinate document\n",
      " |  \n",
      " |  __iter__(self)\n",
      " |  \n",
      " |  __len__(self) -> int\n",
      " |  \n",
      " |  __repr__(self)\n",
      " |      Return repr(self).\n",
      " |  \n",
      " |  __str__(self)\n",
      " |      Return str(self).\n",
      " |  \n",
      " |  add_token(self, token: Union[flair.data.Token, str])\n",
      " |  \n",
      " |  clear_embeddings(self, embedding_names: List[str] = None)\n",
      " |  \n",
      " |  get_labels(self, label_type: str = None)\n",
      " |  \n",
      " |  get_language_code(self) -> str\n",
      " |  \n",
      " |  get_relations(self, type: str) -> List[flair.data.Relation]\n",
      " |  \n",
      " |  get_span(self, start: int, stop: int)\n",
      " |  \n",
      " |  get_spans(self, type: str) -> List[flair.data.Span]\n",
      " |  \n",
      " |  get_token(self, token_id: int) -> Optional[flair.data.Token]\n",
      " |  \n",
      " |  infer_space_after(self)\n",
      " |      Heuristics in case you wish to infer whitespace_after values for tokenized text. This is useful for some old NLP\n",
      " |      tasks (such as CoNLL-03 and CoNLL-2000) that provide only tokenized data with no info of original whitespacing.\n",
      " |      :return:\n",
      " |  \n",
      " |  is_context_set(self) -> bool\n",
      " |      Return True or False depending on whether context is set (for instance in dataloader or elsewhere)\n",
      " |      :return: True if context is set, else False\n",
      " |  \n",
      " |  left_context(self, context_length: int, respect_document_boundaries: bool = True)\n",
      " |  \n",
      " |  next_sentence(self)\n",
      " |      Get the next sentence in the document (works only if context is set through dataloader or elsewhere)\n",
      " |      :return: next Sentence in document if set, otherwise None\n",
      " |  \n",
      " |  previous_sentence(self)\n",
      " |      Get the previous sentence in the document (works only if context is set through dataloader or elsewhere)\n",
      " |      :return: previous Sentence in document if set, otherwise None\n",
      " |  \n",
      " |  remove_labels(self, typename: str)\n",
      " |  \n",
      " |  right_context(self, context_length: int, respect_document_boundaries: bool = True)\n",
      " |  \n",
      " |  to(self, device: str, pin_memory: bool = False)\n",
      " |  \n",
      " |  to_dict(self, tag_type: str = None)\n",
      " |  \n",
      " |  to_original_text(self) -> str\n",
      " |  \n",
      " |  to_plain_string(self)\n",
      " |  \n",
      " |  to_tagged_string(self, main_label=None) -> str\n",
      " |  \n",
      " |  to_tokenized_string(self) -> str\n",
      " |  \n",
      " |  ----------------------------------------------------------------------\n",
      " |  Readonly properties defined here:\n",
      " |  \n",
      " |  embedding\n",
      " |  \n",
      " |  end_position\n",
      " |  \n",
      " |  start_position\n",
      " |  \n",
      " |  text\n",
      " |  \n",
      " |  unlabeled_identifier\n",
      " |  \n",
      " |  ----------------------------------------------------------------------\n",
      " |  Methods inherited from DataPoint:\n",
      " |  \n",
      " |  __eq__(self, other)\n",
      " |      Return self==value.\n",
      " |  \n",
      " |  __hash__(self)\n",
      " |      Return hash(self).\n",
      " |  \n",
      " |  __lt__(self, other)\n",
      " |      Return self<value.\n",
      " |  \n",
      " |  add_label(self, typename: str, value: str, score: float = 1.0)\n",
      " |  \n",
      " |  get_each_embedding(self, embedding_names: Optional[List[str]] = None) -> List[torch.Tensor]\n",
      " |  \n",
      " |  get_embedding(self, names: Optional[List[str]] = None) -> torch.Tensor\n",
      " |  \n",
      " |  get_label(self, label_type: str = None, zero_tag_value='O')\n",
      " |  \n",
      " |  has_label(self, type) -> bool\n",
      " |  \n",
      " |  set_embedding(self, name: str, vector: torch.Tensor)\n",
      " |  \n",
      " |  set_label(self, typename: str, value: str, score: float = 1.0)\n",
      " |  \n",
      " |  ----------------------------------------------------------------------\n",
      " |  Readonly properties inherited from DataPoint:\n",
      " |  \n",
      " |  labels\n",
      " |  \n",
      " |  score\n",
      " |  \n",
      " |  tag\n",
      " |  \n",
      " |  ----------------------------------------------------------------------\n",
      " |  Data descriptors inherited from DataPoint:\n",
      " |  \n",
      " |  __dict__\n",
      " |      dictionary for instance variables (if defined)\n",
      " |  \n",
      " |  __weakref__\n",
      " |      list of weak references to the object (if defined)\n",
      "\n"
     ]
    }
   ],
   "source": [
    "help(sentence)"
   ]
  },
  {
   "cell_type": "code",
   "execution_count": 8,
   "id": "5f22d38e-004c-4bcd-a7e8-0849b49c6bd7",
   "metadata": {},
   "outputs": [
    {
     "name": "stdout",
     "output_type": "stream",
     "text": [
      "Help on list object:\n",
      "\n",
      "class list(object)\n",
      " |  list(iterable=(), /)\n",
      " |  \n",
      " |  Built-in mutable sequence.\n",
      " |  \n",
      " |  If no argument is given, the constructor creates a new empty list.\n",
      " |  The argument must be an iterable if specified.\n",
      " |  \n",
      " |  Methods defined here:\n",
      " |  \n",
      " |  __add__(self, value, /)\n",
      " |      Return self+value.\n",
      " |  \n",
      " |  __contains__(self, key, /)\n",
      " |      Return key in self.\n",
      " |  \n",
      " |  __delitem__(self, key, /)\n",
      " |      Delete self[key].\n",
      " |  \n",
      " |  __eq__(self, value, /)\n",
      " |      Return self==value.\n",
      " |  \n",
      " |  __ge__(self, value, /)\n",
      " |      Return self>=value.\n",
      " |  \n",
      " |  __getattribute__(self, name, /)\n",
      " |      Return getattr(self, name).\n",
      " |  \n",
      " |  __getitem__(...)\n",
      " |      x.__getitem__(y) <==> x[y]\n",
      " |  \n",
      " |  __gt__(self, value, /)\n",
      " |      Return self>value.\n",
      " |  \n",
      " |  __iadd__(self, value, /)\n",
      " |      Implement self+=value.\n",
      " |  \n",
      " |  __imul__(self, value, /)\n",
      " |      Implement self*=value.\n",
      " |  \n",
      " |  __init__(self, /, *args, **kwargs)\n",
      " |      Initialize self.  See help(type(self)) for accurate signature.\n",
      " |  \n",
      " |  __iter__(self, /)\n",
      " |      Implement iter(self).\n",
      " |  \n",
      " |  __le__(self, value, /)\n",
      " |      Return self<=value.\n",
      " |  \n",
      " |  __len__(self, /)\n",
      " |      Return len(self).\n",
      " |  \n",
      " |  __lt__(self, value, /)\n",
      " |      Return self<value.\n",
      " |  \n",
      " |  __mul__(self, value, /)\n",
      " |      Return self*value.\n",
      " |  \n",
      " |  __ne__(self, value, /)\n",
      " |      Return self!=value.\n",
      " |  \n",
      " |  __repr__(self, /)\n",
      " |      Return repr(self).\n",
      " |  \n",
      " |  __reversed__(self, /)\n",
      " |      Return a reverse iterator over the list.\n",
      " |  \n",
      " |  __rmul__(self, value, /)\n",
      " |      Return value*self.\n",
      " |  \n",
      " |  __setitem__(self, key, value, /)\n",
      " |      Set self[key] to value.\n",
      " |  \n",
      " |  __sizeof__(self, /)\n",
      " |      Return the size of the list in memory, in bytes.\n",
      " |  \n",
      " |  append(self, object, /)\n",
      " |      Append object to the end of the list.\n",
      " |  \n",
      " |  clear(self, /)\n",
      " |      Remove all items from list.\n",
      " |  \n",
      " |  copy(self, /)\n",
      " |      Return a shallow copy of the list.\n",
      " |  \n",
      " |  count(self, value, /)\n",
      " |      Return number of occurrences of value.\n",
      " |  \n",
      " |  extend(self, iterable, /)\n",
      " |      Extend list by appending elements from the iterable.\n",
      " |  \n",
      " |  index(self, value, start=0, stop=9223372036854775807, /)\n",
      " |      Return first index of value.\n",
      " |      \n",
      " |      Raises ValueError if the value is not present.\n",
      " |  \n",
      " |  insert(self, index, object, /)\n",
      " |      Insert object before index.\n",
      " |  \n",
      " |  pop(self, index=-1, /)\n",
      " |      Remove and return item at index (default last).\n",
      " |      \n",
      " |      Raises IndexError if list is empty or index is out of range.\n",
      " |  \n",
      " |  remove(self, value, /)\n",
      " |      Remove first occurrence of value.\n",
      " |      \n",
      " |      Raises ValueError if the value is not present.\n",
      " |  \n",
      " |  reverse(self, /)\n",
      " |      Reverse *IN PLACE*.\n",
      " |  \n",
      " |  sort(self, /, *, key=None, reverse=False)\n",
      " |      Sort the list in ascending order and return None.\n",
      " |      \n",
      " |      The sort is in-place (i.e. the list itself is modified) and stable (i.e. the\n",
      " |      order of two equal elements is maintained).\n",
      " |      \n",
      " |      If a key function is given, apply it once to each list item and sort them,\n",
      " |      ascending or descending, according to their function values.\n",
      " |      \n",
      " |      The reverse flag can be set to sort in descending order.\n",
      " |  \n",
      " |  ----------------------------------------------------------------------\n",
      " |  Class methods defined here:\n",
      " |  \n",
      " |  __class_getitem__(...) from builtins.type\n",
      " |      See PEP 585\n",
      " |  \n",
      " |  ----------------------------------------------------------------------\n",
      " |  Static methods defined here:\n",
      " |  \n",
      " |  __new__(*args, **kwargs) from builtins.type\n",
      " |      Create and return a new object.  See help(type) for accurate signature.\n",
      " |  \n",
      " |  ----------------------------------------------------------------------\n",
      " |  Data and other attributes defined here:\n",
      " |  \n",
      " |  __hash__ = None\n",
      "\n"
     ]
    }
   ],
   "source": [
    "help(sentence.get_labels())"
   ]
  },
  {
   "cell_type": "code",
   "execution_count": 9,
   "id": "9ece7621-dff5-4fbc-ba74-1a956a658514",
   "metadata": {},
   "outputs": [
    {
     "data": {
      "text/plain": [
       "'NEGATIVE'"
      ]
     },
     "execution_count": 9,
     "metadata": {},
     "output_type": "execute_result"
    }
   ],
   "source": [
    "sentence.get_labels()[0].value"
   ]
  },
  {
   "cell_type": "code",
   "execution_count": 10,
   "id": "2b2c67c5-1c33-4793-84b8-e8d9c1d7236a",
   "metadata": {},
   "outputs": [
    {
     "data": {
      "text/plain": [
       "('NEGATIVE', 0.602799654006958)"
      ]
     },
     "execution_count": 10,
     "metadata": {},
     "output_type": "execute_result"
    }
   ],
   "source": [
    "sentence.labels[0].value, sentence.labels[0].score"
   ]
  },
  {
   "cell_type": "markdown",
   "id": "3d6cbb82-5df4-42b3-8a6b-51ef399bbadc",
   "metadata": {},
   "source": [
    "# Results"
   ]
  },
  {
   "cell_type": "code",
   "execution_count": 11,
   "id": "7564d99b-5d38-4ffb-a1fa-3882d3e3209e",
   "metadata": {},
   "outputs": [
    {
     "name": "stderr",
     "output_type": "stream",
     "text": [
      "/var/folders/tz/z5m6fg7905g1b0zpb1g0vm680000gn/T/ipykernel_46735/2082807832.py:12: SettingWithCopyWarning: \n",
      "A value is trying to be set on a copy of a slice from a DataFrame.\n",
      "Try using .loc[row_indexer,col_indexer] = value instead\n",
      "\n",
      "See the caveats in the documentation: https://pandas.pydata.org/pandas-docs/stable/user_guide/indexing.html#returning-a-view-versus-a-copy\n",
      "  sample['sentiment'] = sentiment\n",
      "/var/folders/tz/z5m6fg7905g1b0zpb1g0vm680000gn/T/ipykernel_46735/2082807832.py:13: SettingWithCopyWarning: \n",
      "A value is trying to be set on a copy of a slice from a DataFrame.\n",
      "Try using .loc[row_indexer,col_indexer] = value instead\n",
      "\n",
      "See the caveats in the documentation: https://pandas.pydata.org/pandas-docs/stable/user_guide/indexing.html#returning-a-view-versus-a-copy\n",
      "  sample['confidence'] = confidence\n"
     ]
    },
    {
     "data": {
      "text/html": [
       "<div>\n",
       "<style scoped>\n",
       "    .dataframe tbody tr th:only-of-type {\n",
       "        vertical-align: middle;\n",
       "    }\n",
       "\n",
       "    .dataframe tbody tr th {\n",
       "        vertical-align: top;\n",
       "    }\n",
       "\n",
       "    .dataframe thead th {\n",
       "        text-align: right;\n",
       "    }\n",
       "</style>\n",
       "<table border=\"1\" class=\"dataframe\">\n",
       "  <thead>\n",
       "    <tr style=\"text-align: right;\">\n",
       "      <th></th>\n",
       "      <th>created_at</th>\n",
       "      <th>edit_history_tweet_ids</th>\n",
       "      <th>text</th>\n",
       "      <th>id</th>\n",
       "      <th>lang</th>\n",
       "      <th>withheld</th>\n",
       "      <th>sentiment</th>\n",
       "      <th>confidence</th>\n",
       "    </tr>\n",
       "  </thead>\n",
       "  <tbody>\n",
       "    <tr>\n",
       "      <th>0</th>\n",
       "      <td>2023-04-09T21:53:12.000Z</td>\n",
       "      <td>['1645183104896876545']</td>\n",
       "      <td>RT @nytimes: Elon Musk's many tweaks to Twitte...</td>\n",
       "      <td>1645183104896876545</td>\n",
       "      <td>en</td>\n",
       "      <td>NaN</td>\n",
       "      <td>NEGATIVE</td>\n",
       "      <td>0.602800</td>\n",
       "    </tr>\n",
       "    <tr>\n",
       "      <th>1</th>\n",
       "      <td>2023-04-09T21:53:12.000Z</td>\n",
       "      <td>['1645183104343048197']</td>\n",
       "      <td>RT @elonmusk: Tesla opening Megapack factory i...</td>\n",
       "      <td>1645183104343048197</td>\n",
       "      <td>en</td>\n",
       "      <td>NaN</td>\n",
       "      <td>POSITIVE</td>\n",
       "      <td>0.983427</td>\n",
       "    </tr>\n",
       "    <tr>\n",
       "      <th>2</th>\n",
       "      <td>2023-04-09T21:53:12.000Z</td>\n",
       "      <td>['1645183103550496771']</td>\n",
       "      <td>RT @OmarRiverosays: BREAKING NEWS: Yahoo News ...</td>\n",
       "      <td>1645183103550496771</td>\n",
       "      <td>en</td>\n",
       "      <td>NaN</td>\n",
       "      <td>NEGATIVE</td>\n",
       "      <td>0.837053</td>\n",
       "    </tr>\n",
       "    <tr>\n",
       "      <th>3</th>\n",
       "      <td>2023-04-09T21:53:12.000Z</td>\n",
       "      <td>['1645183103332384769']</td>\n",
       "      <td>RT @blockkbusiness: Is it true Tesla is buildi...</td>\n",
       "      <td>1645183103332384769</td>\n",
       "      <td>en</td>\n",
       "      <td>NaN</td>\n",
       "      <td>NEGATIVE</td>\n",
       "      <td>0.958561</td>\n",
       "    </tr>\n",
       "    <tr>\n",
       "      <th>4</th>\n",
       "      <td>2023-04-09T21:53:12.000Z</td>\n",
       "      <td>['1645183102195494913']</td>\n",
       "      <td>RT @blockkbusiness: Is it true Tesla is buildi...</td>\n",
       "      <td>1645183102195494913</td>\n",
       "      <td>en</td>\n",
       "      <td>NaN</td>\n",
       "      <td>NEGATIVE</td>\n",
       "      <td>0.958561</td>\n",
       "    </tr>\n",
       "  </tbody>\n",
       "</table>\n",
       "</div>"
      ],
      "text/plain": [
       "                 created_at   edit_history_tweet_ids  \\\n",
       "0  2023-04-09T21:53:12.000Z  ['1645183104896876545']   \n",
       "1  2023-04-09T21:53:12.000Z  ['1645183104343048197']   \n",
       "2  2023-04-09T21:53:12.000Z  ['1645183103550496771']   \n",
       "3  2023-04-09T21:53:12.000Z  ['1645183103332384769']   \n",
       "4  2023-04-09T21:53:12.000Z  ['1645183102195494913']   \n",
       "\n",
       "                                                text                   id  \\\n",
       "0  RT @nytimes: Elon Musk's many tweaks to Twitte...  1645183104896876545   \n",
       "1  RT @elonmusk: Tesla opening Megapack factory i...  1645183104343048197   \n",
       "2  RT @OmarRiverosays: BREAKING NEWS: Yahoo News ...  1645183103550496771   \n",
       "3  RT @blockkbusiness: Is it true Tesla is buildi...  1645183103332384769   \n",
       "4  RT @blockkbusiness: Is it true Tesla is buildi...  1645183102195494913   \n",
       "\n",
       "  lang withheld sentiment  confidence  \n",
       "0   en      NaN  NEGATIVE    0.602800  \n",
       "1   en      NaN  POSITIVE    0.983427  \n",
       "2   en      NaN  NEGATIVE    0.837053  \n",
       "3   en      NaN  NEGATIVE    0.958561  \n",
       "4   en      NaN  NEGATIVE    0.958561  "
      ]
     },
     "execution_count": 11,
     "metadata": {},
     "output_type": "execute_result"
    }
   ],
   "source": [
    "sentiment = []\n",
    "confidence = []\n",
    "\n",
    "sample = tweets.iloc[:1000]\n",
    "for tweet in sample['text'].to_list():\n",
    "    sentence = flair.data.Sentence(tweet)\n",
    "    sentiment_model.predict(sentence)\n",
    "    \n",
    "    sentiment.append(sentence.labels[0].value)\n",
    "    confidence.append(sentence.labels[0].score)\n",
    "    \n",
    "sample['sentiment'] = sentiment\n",
    "sample['confidence'] = confidence\n",
    "\n",
    "sample.head()"
   ]
  },
  {
   "cell_type": "code",
   "execution_count": 12,
   "id": "8add212e-1c06-4ab6-be13-2e263621e022",
   "metadata": {},
   "outputs": [],
   "source": [
    "pd.set_option('display.max_colwidth', None)"
   ]
  },
  {
   "cell_type": "code",
   "execution_count": 13,
   "id": "5c3b84bf-2339-415d-b0c5-c1f9d777c5d5",
   "metadata": {},
   "outputs": [
    {
     "data": {
      "text/html": [
       "<div>\n",
       "<style scoped>\n",
       "    .dataframe tbody tr th:only-of-type {\n",
       "        vertical-align: middle;\n",
       "    }\n",
       "\n",
       "    .dataframe tbody tr th {\n",
       "        vertical-align: top;\n",
       "    }\n",
       "\n",
       "    .dataframe thead th {\n",
       "        text-align: right;\n",
       "    }\n",
       "</style>\n",
       "<table border=\"1\" class=\"dataframe\">\n",
       "  <thead>\n",
       "    <tr style=\"text-align: right;\">\n",
       "      <th></th>\n",
       "      <th>created_at</th>\n",
       "      <th>edit_history_tweet_ids</th>\n",
       "      <th>text</th>\n",
       "      <th>id</th>\n",
       "      <th>lang</th>\n",
       "      <th>withheld</th>\n",
       "      <th>sentiment</th>\n",
       "      <th>confidence</th>\n",
       "    </tr>\n",
       "  </thead>\n",
       "  <tbody>\n",
       "    <tr>\n",
       "      <th>0</th>\n",
       "      <td>2023-04-09T21:53:12.000Z</td>\n",
       "      <td>['1645183104896876545']</td>\n",
       "      <td>RT @nytimes: Elon Musk's many tweaks to Twitter have resulted in a clunkier and less predictable experience, some users say. Even Twitter's…</td>\n",
       "      <td>1645183104896876545</td>\n",
       "      <td>en</td>\n",
       "      <td>NaN</td>\n",
       "      <td>NEGATIVE</td>\n",
       "      <td>0.602800</td>\n",
       "    </tr>\n",
       "    <tr>\n",
       "      <th>1</th>\n",
       "      <td>2023-04-09T21:53:12.000Z</td>\n",
       "      <td>['1645183104343048197']</td>\n",
       "      <td>RT @elonmusk: Tesla opening Megapack factory in Shanghai to supplement output of Megapack factory in California</td>\n",
       "      <td>1645183104343048197</td>\n",
       "      <td>en</td>\n",
       "      <td>NaN</td>\n",
       "      <td>POSITIVE</td>\n",
       "      <td>0.983427</td>\n",
       "    </tr>\n",
       "    <tr>\n",
       "      <th>2</th>\n",
       "      <td>2023-04-09T21:53:12.000Z</td>\n",
       "      <td>['1645183103550496771']</td>\n",
       "      <td>RT @OmarRiverosays: BREAKING NEWS: Yahoo News drops bombshell, reveals that Elon Musk's Twitter is now “amplifying” the Twitter accounts of…</td>\n",
       "      <td>1645183103550496771</td>\n",
       "      <td>en</td>\n",
       "      <td>NaN</td>\n",
       "      <td>NEGATIVE</td>\n",
       "      <td>0.837053</td>\n",
       "    </tr>\n",
       "    <tr>\n",
       "      <th>3</th>\n",
       "      <td>2023-04-09T21:53:12.000Z</td>\n",
       "      <td>['1645183103332384769']</td>\n",
       "      <td>RT @blockkbusiness: Is it true Tesla is building a factory in China? https://t.co/EfVGqWOBBP</td>\n",
       "      <td>1645183103332384769</td>\n",
       "      <td>en</td>\n",
       "      <td>NaN</td>\n",
       "      <td>NEGATIVE</td>\n",
       "      <td>0.958561</td>\n",
       "    </tr>\n",
       "    <tr>\n",
       "      <th>4</th>\n",
       "      <td>2023-04-09T21:53:12.000Z</td>\n",
       "      <td>['1645183102195494913']</td>\n",
       "      <td>RT @blockkbusiness: Is it true Tesla is building a factory in China? https://t.co/EfVGqWOBBP</td>\n",
       "      <td>1645183102195494913</td>\n",
       "      <td>en</td>\n",
       "      <td>NaN</td>\n",
       "      <td>NEGATIVE</td>\n",
       "      <td>0.958561</td>\n",
       "    </tr>\n",
       "  </tbody>\n",
       "</table>\n",
       "</div>"
      ],
      "text/plain": [
       "                 created_at   edit_history_tweet_ids  \\\n",
       "0  2023-04-09T21:53:12.000Z  ['1645183104896876545']   \n",
       "1  2023-04-09T21:53:12.000Z  ['1645183104343048197']   \n",
       "2  2023-04-09T21:53:12.000Z  ['1645183103550496771']   \n",
       "3  2023-04-09T21:53:12.000Z  ['1645183103332384769']   \n",
       "4  2023-04-09T21:53:12.000Z  ['1645183102195494913']   \n",
       "\n",
       "                                                                                                                                           text  \\\n",
       "0  RT @nytimes: Elon Musk's many tweaks to Twitter have resulted in a clunkier and less predictable experience, some users say. Even Twitter's…   \n",
       "1                               RT @elonmusk: Tesla opening Megapack factory in Shanghai to supplement output of Megapack factory in California   \n",
       "2  RT @OmarRiverosays: BREAKING NEWS: Yahoo News drops bombshell, reveals that Elon Musk's Twitter is now “amplifying” the Twitter accounts of…   \n",
       "3                                                  RT @blockkbusiness: Is it true Tesla is building a factory in China? https://t.co/EfVGqWOBBP   \n",
       "4                                                  RT @blockkbusiness: Is it true Tesla is building a factory in China? https://t.co/EfVGqWOBBP   \n",
       "\n",
       "                    id lang withheld sentiment  confidence  \n",
       "0  1645183104896876545   en      NaN  NEGATIVE    0.602800  \n",
       "1  1645183104343048197   en      NaN  POSITIVE    0.983427  \n",
       "2  1645183103550496771   en      NaN  NEGATIVE    0.837053  \n",
       "3  1645183103332384769   en      NaN  NEGATIVE    0.958561  \n",
       "4  1645183102195494913   en      NaN  NEGATIVE    0.958561  "
      ]
     },
     "execution_count": 13,
     "metadata": {},
     "output_type": "execute_result"
    }
   ],
   "source": [
    "sample.head()"
   ]
  },
  {
   "cell_type": "code",
   "execution_count": null,
   "id": "3d3ebe0a-cd7b-4101-ad0b-7cbe0f0e1daa",
   "metadata": {},
   "outputs": [],
   "source": []
  }
 ],
 "metadata": {
  "kernelspec": {
   "display_name": "ML environment",
   "language": "python",
   "name": "mlenv"
  },
  "language_info": {
   "codemirror_mode": {
    "name": "ipython",
    "version": 3
   },
   "file_extension": ".py",
   "mimetype": "text/x-python",
   "name": "python",
   "nbconvert_exporter": "python",
   "pygments_lexer": "ipython3",
   "version": "3.10.4"
  }
 },
 "nbformat": 4,
 "nbformat_minor": 5
}
