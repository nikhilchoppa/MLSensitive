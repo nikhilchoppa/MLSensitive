{
 "cells": [
  {
   "cell_type": "code",
   "execution_count": 2,
   "id": "d969633f-a0cc-4ea6-8400-93a672e504d7",
   "metadata": {},
   "outputs": [],
   "source": [
    "#import core package\n",
    "import numpy as np\n",
    "import pandas as pd"
   ]
  },
  {
   "cell_type": "code",
   "execution_count": 3,
   "id": "a0ee7a96-93d9-4f7e-87e6-5cb42f0336a3",
   "metadata": {},
   "outputs": [],
   "source": [
    "#package scrap data\n",
    "import requests"
   ]
  },
  {
   "cell_type": "code",
   "execution_count": 1,
   "id": "8a1fb826-531c-4cfa-9758-a9d987ecea9a",
   "metadata": {},
   "outputs": [
    {
     "ename": "ModuleNotFoundError",
     "evalue": "No module named 'yfinance'",
     "output_type": "error",
     "traceback": [
      "\u001B[0;31m---------------------------------------------------------------------------\u001B[0m",
      "\u001B[0;31mModuleNotFoundError\u001B[0m                       Traceback (most recent call last)",
      "Cell \u001B[0;32mIn[1], line 2\u001B[0m\n\u001B[1;32m      1\u001B[0m \u001B[38;5;66;03m#yahoo finance package to get stock data\u001B[39;00m\n\u001B[0;32m----> 2\u001B[0m \u001B[38;5;28;01mimport\u001B[39;00m \u001B[38;5;21;01myfinance\u001B[39;00m \u001B[38;5;28;01mas\u001B[39;00m \u001B[38;5;21;01myf\u001B[39;00m\n\u001B[1;32m      4\u001B[0m \u001B[38;5;28;01mdef\u001B[39;00m \u001B[38;5;21mget_stock_info\u001B[39m(ticker):\n\u001B[1;32m      5\u001B[0m     stock \u001B[38;5;241m=\u001B[39m yf\u001B[38;5;241m.\u001B[39mTicker(ticker)\n",
      "\u001B[0;31mModuleNotFoundError\u001B[0m: No module named 'yfinance'"
     ]
    }
   ],
   "source": [
    "#yahoo finance package to get stock data\n",
    "import yfinance as yf\n",
    "\n",
    "def get_stock_info(ticker):\n",
    "    stock = yf.Ticker(ticker)\n",
    "    stock_info = stock.info\n",
    "    return stock_info\n",
    "\n",
    "ticker = \"^GSPC\"\n",
    "stock_info = get_stock_info(ticker)\n",
    "print(stock_info)\n",
    "\n"
   ]
  },
  {
   "cell_type": "code",
   "execution_count": null,
   "id": "9ce7e614-7496-4830-831b-82e1c018190c",
   "metadata": {},
   "outputs": [],
   "source": []
  },
  {
   "cell_type": "code",
   "execution_count": null,
   "id": "55c1eb10-7f30-4975-80b2-ccaa515ecf0d",
   "metadata": {},
   "outputs": [],
   "source": []
  }
 ],
 "metadata": {
  "kernelspec": {
   "display_name": "Python 3 (ipykernel)",
   "language": "python",
   "name": "python3"
  },
  "language_info": {
   "codemirror_mode": {
    "name": "ipython",
    "version": 3
   },
   "file_extension": ".py",
   "mimetype": "text/x-python",
   "name": "python",
   "nbconvert_exporter": "python",
   "pygments_lexer": "ipython3",
   "version": "3.10.4"
  }
 },
 "nbformat": 4,
 "nbformat_minor": 5
}
