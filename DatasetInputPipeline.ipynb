{
 "cells": [
  {
   "cell_type": "code",
   "execution_count": 6,
   "id": "ebf6141f-07ac-4862-99a1-f9b0e6a1f671",
   "metadata": {},
   "outputs": [],
   "source": [
    "import tensorflow as tf\n",
    "import pandas as pd\n",
    "import numpy as np"
   ]
  },
  {
   "cell_type": "code",
   "execution_count": 7,
   "id": "553437ba-e2bb-4b0c-acdf-16fc7e52e02c",
   "metadata": {},
   "outputs": [],
   "source": [
    "inputs = [0, 1, 2, 3]\n",
    "labels = [1, 0 , 1, 0]"
   ]
  },
  {
   "cell_type": "code",
   "execution_count": 8,
   "id": "8eeaa57f-053d-4770-b71c-56a8a589979b",
   "metadata": {},
   "outputs": [],
   "source": [
    "dataset = tf.data.Dataset.from_tensor_slices((inputs, labels))"
   ]
  },
  {
   "cell_type": "code",
   "execution_count": 9,
   "id": "f26b3f2d-6458-4d8d-a13d-fdf37a28646e",
   "metadata": {},
   "outputs": [
    {
     "name": "stdout",
     "output_type": "stream",
     "text": [
      "(<tf.Tensor: shape=(), dtype=int32, numpy=0>, <tf.Tensor: shape=(), dtype=int32, numpy=1>)\n",
      "(<tf.Tensor: shape=(), dtype=int32, numpy=1>, <tf.Tensor: shape=(), dtype=int32, numpy=0>)\n",
      "(<tf.Tensor: shape=(), dtype=int32, numpy=2>, <tf.Tensor: shape=(), dtype=int32, numpy=1>)\n",
      "(<tf.Tensor: shape=(), dtype=int32, numpy=3>, <tf.Tensor: shape=(), dtype=int32, numpy=0>)\n"
     ]
    }
   ],
   "source": [
    "for item in dataset:\n",
    "    print(item)"
   ]
  },
  {
   "cell_type": "code",
   "execution_count": 10,
   "id": "82e26bdd-9c98-40e2-8a8a-d99c09d23fe6",
   "metadata": {},
   "outputs": [
    {
     "data": {
      "text/plain": [
       "array([0, 1, 2, 3])"
      ]
     },
     "execution_count": 10,
     "metadata": {},
     "output_type": "execute_result"
    }
   ],
   "source": [
    "inputs = np.asarray(inputs)\n",
    "labels = np.asarray(labels)\n",
    "inputs"
   ]
  },
  {
   "cell_type": "code",
   "execution_count": 11,
   "id": "bddac323-e4e9-456c-8520-9d9f7844dd55",
   "metadata": {},
   "outputs": [
    {
     "name": "stdout",
     "output_type": "stream",
     "text": [
      "(<tf.Tensor: shape=(), dtype=int64, numpy=0>, <tf.Tensor: shape=(), dtype=int64, numpy=1>)\n",
      "(<tf.Tensor: shape=(), dtype=int64, numpy=1>, <tf.Tensor: shape=(), dtype=int64, numpy=0>)\n",
      "(<tf.Tensor: shape=(), dtype=int64, numpy=2>, <tf.Tensor: shape=(), dtype=int64, numpy=1>)\n",
      "(<tf.Tensor: shape=(), dtype=int64, numpy=3>, <tf.Tensor: shape=(), dtype=int64, numpy=0>)\n"
     ]
    }
   ],
   "source": [
    "dataset = tf.data.Dataset.from_tensor_slices((inputs, labels))\n",
    "for item in dataset:\n",
    "    print(item)"
   ]
  },
  {
   "cell_type": "code",
   "execution_count": 14,
   "id": "9c18c1b5-d25f-45a1-8786-fef425ed59d3",
   "metadata": {},
   "outputs": [],
   "source": [
    "df = pd.DataFrame({\n",
    "    'inputs' : [0, 1,2,3],\n",
    "    'labels' : [1, 0, 1,0]\n",
    "\n",
    "})"
   ]
  },
  {
   "cell_type": "code",
   "execution_count": 15,
   "id": "a67f67d2-27d7-4385-95b6-e84c392629b0",
   "metadata": {},
   "outputs": [
    {
     "data": {
      "text/html": [
       "<div>\n",
       "<style scoped>\n",
       "    .dataframe tbody tr th:only-of-type {\n",
       "        vertical-align: middle;\n",
       "    }\n",
       "\n",
       "    .dataframe tbody tr th {\n",
       "        vertical-align: top;\n",
       "    }\n",
       "\n",
       "    .dataframe thead th {\n",
       "        text-align: right;\n",
       "    }\n",
       "</style>\n",
       "<table border=\"1\" class=\"dataframe\">\n",
       "  <thead>\n",
       "    <tr style=\"text-align: right;\">\n",
       "      <th></th>\n",
       "      <th>inputs</th>\n",
       "      <th>labels</th>\n",
       "    </tr>\n",
       "  </thead>\n",
       "  <tbody>\n",
       "    <tr>\n",
       "      <th>0</th>\n",
       "      <td>0</td>\n",
       "      <td>1</td>\n",
       "    </tr>\n",
       "    <tr>\n",
       "      <th>1</th>\n",
       "      <td>1</td>\n",
       "      <td>0</td>\n",
       "    </tr>\n",
       "    <tr>\n",
       "      <th>2</th>\n",
       "      <td>2</td>\n",
       "      <td>1</td>\n",
       "    </tr>\n",
       "    <tr>\n",
       "      <th>3</th>\n",
       "      <td>3</td>\n",
       "      <td>0</td>\n",
       "    </tr>\n",
       "  </tbody>\n",
       "</table>\n",
       "</div>"
      ],
      "text/plain": [
       "   inputs  labels\n",
       "0       0       1\n",
       "1       1       0\n",
       "2       2       1\n",
       "3       3       0"
      ]
     },
     "execution_count": 15,
     "metadata": {},
     "output_type": "execute_result"
    }
   ],
   "source": [
    "df"
   ]
  },
  {
   "cell_type": "code",
   "execution_count": 16,
   "id": "27b39094-261b-419a-be9b-cb855b6e0fef",
   "metadata": {},
   "outputs": [
    {
     "data": {
      "text/plain": [
       "array([0, 1, 2, 3])"
      ]
     },
     "execution_count": 16,
     "metadata": {},
     "output_type": "execute_result"
    }
   ],
   "source": [
    "df['inputs'].values"
   ]
  },
  {
   "cell_type": "code",
   "execution_count": 17,
   "id": "523c784f-fbd4-46c5-9866-95212f424fc5",
   "metadata": {},
   "outputs": [
    {
     "name": "stdout",
     "output_type": "stream",
     "text": [
      "(<tf.Tensor: shape=(), dtype=int64, numpy=0>, <tf.Tensor: shape=(), dtype=int64, numpy=1>)\n",
      "(<tf.Tensor: shape=(), dtype=int64, numpy=1>, <tf.Tensor: shape=(), dtype=int64, numpy=0>)\n",
      "(<tf.Tensor: shape=(), dtype=int64, numpy=2>, <tf.Tensor: shape=(), dtype=int64, numpy=1>)\n",
      "(<tf.Tensor: shape=(), dtype=int64, numpy=3>, <tf.Tensor: shape=(), dtype=int64, numpy=0>)\n"
     ]
    }
   ],
   "source": [
    "dataset = tf.data.Dataset.from_tensor_slices((df['inputs'].values, df['labels'].values))\n",
    "for item in dataset:\n",
    "    print(item)\n",
    "# only difference is, it is generating dtype=int64"
   ]
  },
  {
   "cell_type": "markdown",
   "id": "1ee892b7-855b-4b12-96e3-083038e94ece",
   "metadata": {},
   "source": [
    " ---"
   ]
  },
  {
   "cell_type": "markdown",
   "id": "cb620be6-c055-4991-91e5-80df40451b1b",
   "metadata": {},
   "source": [
    "# Read data from file"
   ]
  },
  {
   "cell_type": "code",
   "execution_count": 42,
   "id": "9a442acc-bb33-4714-afa4-7ad6447bcdf1",
   "metadata": {},
   "outputs": [
    {
     "ename": "ValueError",
     "evalue": "Column Date specified in `select_columns` must be of one of the columns: dict_keys(['\\ufeff\"Date\"', 'Price', 'Open', 'High', 'Low', 'Vol.', 'Change %']).",
     "output_type": "error",
     "traceback": [
      "\u001B[0;31m---------------------------------------------------------------------------\u001B[0m",
      "\u001B[0;31mValueError\u001B[0m                                Traceback (most recent call last)",
      "\u001B[0;32m/var/folders/tz/z5m6fg7905g1b0zpb1g0vm680000gn/T/ipykernel_94232/3012615074.py\u001B[0m in \u001B[0;36m<module>\u001B[0;34m\u001B[0m\n\u001B[0;32m----> 1\u001B[0;31m dataset = tf.data.experimental.make_csv_dataset(\n\u001B[0m\u001B[1;32m      2\u001B[0m     \u001B[0;34m\"MSFTData.csv\"\u001B[0m\u001B[0;34m,\u001B[0m\u001B[0;34m\u001B[0m\u001B[0;34m\u001B[0m\u001B[0m\n\u001B[1;32m      3\u001B[0m     \u001B[0mbatch_size\u001B[0m\u001B[0;34m=\u001B[0m \u001B[0;36m16\u001B[0m\u001B[0;34m,\u001B[0m\u001B[0;34m\u001B[0m\u001B[0;34m\u001B[0m\u001B[0m\n\u001B[1;32m      4\u001B[0m     \u001B[0mfield_delim\u001B[0m\u001B[0;34m=\u001B[0m\u001B[0;34m','\u001B[0m\u001B[0;34m,\u001B[0m\u001B[0;34m\u001B[0m\u001B[0;34m\u001B[0m\u001B[0m\n\u001B[1;32m      5\u001B[0m     \u001B[0mselect_columns\u001B[0m \u001B[0;34m=\u001B[0m \u001B[0;34m[\u001B[0m\u001B[0;34m'Date'\u001B[0m\u001B[0;34m,\u001B[0m\u001B[0;34m'Price'\u001B[0m\u001B[0;34m,\u001B[0m \u001B[0;34m'Open'\u001B[0m\u001B[0;34m,\u001B[0m \u001B[0;34m'High'\u001B[0m\u001B[0;34m,\u001B[0m \u001B[0;34m'Low'\u001B[0m\u001B[0;34m,\u001B[0m \u001B[0;34m'Vol.'\u001B[0m\u001B[0;34m,\u001B[0m \u001B[0;34m'Change %'\u001B[0m\u001B[0;34m]\u001B[0m\u001B[0;34m,\u001B[0m\u001B[0;34m\u001B[0m\u001B[0;34m\u001B[0m\u001B[0m\n",
      "\u001B[0;32m~/opt/anaconda3/envs/mlenv/lib/python3.10/site-packages/tensorflow/python/data/experimental/ops/readers.py\u001B[0m in \u001B[0;36mmake_csv_dataset_v2\u001B[0;34m(file_pattern, batch_size, column_names, column_defaults, label_name, select_columns, field_delim, use_quote_delim, na_value, header, num_epochs, shuffle, shuffle_buffer_size, shuffle_seed, prefetch_buffer_size, num_parallel_reads, sloppy, num_rows_for_inference, compression_type, ignore_errors)\u001B[0m\n\u001B[1;32m    523\u001B[0m \u001B[0;34m\u001B[0m\u001B[0m\n\u001B[1;32m    524\u001B[0m   \u001B[0;32mif\u001B[0m \u001B[0mselect_columns\u001B[0m \u001B[0;32mis\u001B[0m \u001B[0;32mnot\u001B[0m \u001B[0;32mNone\u001B[0m\u001B[0;34m:\u001B[0m\u001B[0;34m\u001B[0m\u001B[0;34m\u001B[0m\u001B[0m\n\u001B[0;32m--> 525\u001B[0;31m     \u001B[0mselect_columns\u001B[0m \u001B[0;34m=\u001B[0m \u001B[0m_get_sorted_col_indices\u001B[0m\u001B[0;34m(\u001B[0m\u001B[0mselect_columns\u001B[0m\u001B[0;34m,\u001B[0m \u001B[0mcolumn_names\u001B[0m\u001B[0;34m)\u001B[0m\u001B[0;34m\u001B[0m\u001B[0;34m\u001B[0m\u001B[0m\n\u001B[0m\u001B[1;32m    526\u001B[0m \u001B[0;34m\u001B[0m\u001B[0m\n\u001B[1;32m    527\u001B[0m   \u001B[0;32mif\u001B[0m \u001B[0mcolumn_defaults\u001B[0m \u001B[0;32mis\u001B[0m \u001B[0;32mnot\u001B[0m \u001B[0;32mNone\u001B[0m\u001B[0;34m:\u001B[0m\u001B[0;34m\u001B[0m\u001B[0;34m\u001B[0m\u001B[0m\n",
      "\u001B[0;32m~/opt/anaconda3/envs/mlenv/lib/python3.10/site-packages/tensorflow/python/data/experimental/ops/readers.py\u001B[0m in \u001B[0;36m_get_sorted_col_indices\u001B[0;34m(select_columns, column_names)\u001B[0m\n\u001B[1;32m    198\u001B[0m     \u001B[0;31m# the relevant column index.\u001B[0m\u001B[0;34m\u001B[0m\u001B[0;34m\u001B[0m\u001B[0m\n\u001B[1;32m    199\u001B[0m     \u001B[0;32melif\u001B[0m \u001B[0mv\u001B[0m \u001B[0;32mnot\u001B[0m \u001B[0;32min\u001B[0m \u001B[0mnames_to_indices\u001B[0m\u001B[0;34m:\u001B[0m\u001B[0;34m\u001B[0m\u001B[0;34m\u001B[0m\u001B[0m\n\u001B[0;32m--> 200\u001B[0;31m       raise ValueError(\n\u001B[0m\u001B[1;32m    201\u001B[0m           \u001B[0;34mf\"Column {v} specified in `select_columns` must be of one of the \"\u001B[0m\u001B[0;34m\u001B[0m\u001B[0;34m\u001B[0m\u001B[0m\n\u001B[1;32m    202\u001B[0m           f\"columns: {names_to_indices.keys()}.\")\n",
      "\u001B[0;31mValueError\u001B[0m: Column Date specified in `select_columns` must be of one of the columns: dict_keys(['\\ufeff\"Date\"', 'Price', 'Open', 'High', 'Low', 'Vol.', 'Change %'])."
     ]
    }
   ],
   "source": [
    "dataset = tf.data.experimental.make_csv_dataset(\n",
    "    \"MSFTData.csv\", \n",
    "    batch_size= 16,\n",
    "    field_delim=',',\n",
    "    select_columns = ['Date','Price', 'Open', 'High', 'Low', 'Vol.', 'Change %'],\n",
    "    label_name= 'Date'\n",
    "    \n",
    ")"
   ]
  },
  {
   "cell_type": "code",
   "execution_count": 43,
   "id": "a7dd71ae-8968-4858-9167-e11d8d83d51f",
   "metadata": {},
   "outputs": [
    {
     "name": "stdout",
     "output_type": "stream",
     "text": [
      "(<tf.Tensor: shape=(16, 2), dtype=float64, numpy=\n",
      "array([[284.91, 269.6 ],\n",
      "       [239.82, 233.87],\n",
      "       [281.92, 281.62],\n",
      "       [271.87, 246.44],\n",
      "       [249.68, 238.07],\n",
      "       [255.14, 213.43],\n",
      "       [247.81, 219.35],\n",
      "       [261.47, 260.66],\n",
      "       [308.31, 270.  ],\n",
      "       [249.42, 245.47],\n",
      "       [256.83, 241.51],\n",
      "       [298.79, 271.52],\n",
      "       [280.74, 245.94],\n",
      "       [232.9 , 232.73],\n",
      "       [270.9 , 243.  ],\n",
      "       [310.98, 276.05]])>, <tf.Tensor: shape=(16,), dtype=string, numpy=\n",
      "array([b'07/01/2021', b'12/01/2022', b'09/01/2021', b'05/01/2022',\n",
      "       b'05/01/2021', b'11/01/2022', b'01/01/2023', b'08/01/2022',\n",
      "       b'03/01/2022', b'02/01/2023', b'06/01/2022', b'02/01/2022',\n",
      "       b'07/01/2022', b'09/01/2022', b'06/01/2021', b'01/01/2022'],\n",
      "      dtype=object)>)\n"
     ]
    }
   ],
   "source": [
    "for item in dataset.take(3):\n",
    "    print(item)"
   ]
  },
  {
   "cell_type": "code",
   "execution_count": 30,
   "id": "d5f609c3-9321-4216-ba39-5d89c2e92dcb",
   "metadata": {},
   "outputs": [
    {
     "data": {
      "text/html": [
       "<div>\n",
       "<style scoped>\n",
       "    .dataframe tbody tr th:only-of-type {\n",
       "        vertical-align: middle;\n",
       "    }\n",
       "\n",
       "    .dataframe tbody tr th {\n",
       "        vertical-align: top;\n",
       "    }\n",
       "\n",
       "    .dataframe thead th {\n",
       "        text-align: right;\n",
       "    }\n",
       "</style>\n",
       "<table border=\"1\" class=\"dataframe\">\n",
       "  <thead>\n",
       "    <tr style=\"text-align: right;\">\n",
       "      <th></th>\n",
       "      <th>Date</th>\n",
       "      <th>Price</th>\n",
       "      <th>Open</th>\n",
       "      <th>High</th>\n",
       "      <th>Low</th>\n",
       "      <th>Vol.</th>\n",
       "      <th>Change %</th>\n",
       "    </tr>\n",
       "  </thead>\n",
       "  <tbody>\n",
       "    <tr>\n",
       "      <th>0</th>\n",
       "      <td>04/01/2021</td>\n",
       "      <td>252.18</td>\n",
       "      <td>238.47</td>\n",
       "      <td>263.19</td>\n",
       "      <td>238.05</td>\n",
       "      <td>568.70M</td>\n",
       "      <td>6.96%</td>\n",
       "    </tr>\n",
       "    <tr>\n",
       "      <th>1</th>\n",
       "      <td>05/01/2021</td>\n",
       "      <td>249.68</td>\n",
       "      <td>253.40</td>\n",
       "      <td>254.35</td>\n",
       "      <td>238.07</td>\n",
       "      <td>495.09M</td>\n",
       "      <td>-0.99%</td>\n",
       "    </tr>\n",
       "    <tr>\n",
       "      <th>2</th>\n",
       "      <td>06/01/2021</td>\n",
       "      <td>270.90</td>\n",
       "      <td>251.23</td>\n",
       "      <td>271.65</td>\n",
       "      <td>243.00</td>\n",
       "      <td>508.57M</td>\n",
       "      <td>8.50%</td>\n",
       "    </tr>\n",
       "    <tr>\n",
       "      <th>3</th>\n",
       "      <td>07/01/2021</td>\n",
       "      <td>284.91</td>\n",
       "      <td>269.61</td>\n",
       "      <td>290.15</td>\n",
       "      <td>269.60</td>\n",
       "      <td>522.69M</td>\n",
       "      <td>5.17%</td>\n",
       "    </tr>\n",
       "    <tr>\n",
       "      <th>4</th>\n",
       "      <td>08/01/2021</td>\n",
       "      <td>301.88</td>\n",
       "      <td>286.36</td>\n",
       "      <td>305.84</td>\n",
       "      <td>283.74</td>\n",
       "      <td>441.33M</td>\n",
       "      <td>5.96%</td>\n",
       "    </tr>\n",
       "  </tbody>\n",
       "</table>\n",
       "</div>"
      ],
      "text/plain": [
       "         Date   Price    Open    High     Low     Vol. Change %\n",
       "0  04/01/2021  252.18  238.47  263.19  238.05  568.70M    6.96%\n",
       "1  05/01/2021  249.68  253.40  254.35  238.07  495.09M   -0.99%\n",
       "2  06/01/2021  270.90  251.23  271.65  243.00  508.57M    8.50%\n",
       "3  07/01/2021  284.91  269.61  290.15  269.60  522.69M    5.17%\n",
       "4  08/01/2021  301.88  286.36  305.84  283.74  441.33M    5.96%"
      ]
     },
     "execution_count": 30,
     "metadata": {},
     "output_type": "execute_result"
    }
   ],
   "source": [
    "data = pd.read_csv(\"MSFTData.csv\")\n",
    "data.head()"
   ]
  },
  {
   "cell_type": "code",
   "execution_count": 32,
   "id": "cba5271d-da96-469f-b1a7-15ca4baa896f",
   "metadata": {},
   "outputs": [],
   "source": [
    "dataset = tf.data.Dataset.from_tensor_slices((data[['Price','Low']].values, data['Date'].values))"
   ]
  },
  {
   "cell_type": "code",
   "execution_count": 33,
   "id": "196d869c-51a0-45fa-8106-3ff3cce24528",
   "metadata": {},
   "outputs": [
    {
     "name": "stdout",
     "output_type": "stream",
     "text": [
      "(<tf.Tensor: shape=(2,), dtype=float64, numpy=array([252.18, 238.05])>, <tf.Tensor: shape=(), dtype=string, numpy=b'04/01/2021'>)\n"
     ]
    }
   ],
   "source": [
    "for item in dataset.take(1):\n",
    "    print(item)"
   ]
  },
  {
   "cell_type": "code",
   "execution_count": 34,
   "id": "f5ce9fda-f9e5-4f82-8f07-ce5eb3d835cd",
   "metadata": {},
   "outputs": [],
   "source": [
    "dataset = dataset.shuffle(10000).batch(16,drop_remainder = True )"
   ]
  },
  {
   "cell_type": "code",
   "execution_count": 44,
   "id": "13d099f2-c23e-4ba4-9541-627238205d74",
   "metadata": {},
   "outputs": [
    {
     "name": "stdout",
     "output_type": "stream",
     "text": [
      "(<tf.Tensor: shape=(16, 2), dtype=float64, numpy=\n",
      "array([[239.82, 233.87],\n",
      "       [277.52, 270.  ],\n",
      "       [247.81, 219.35],\n",
      "       [252.18, 238.05],\n",
      "       [256.83, 241.51],\n",
      "       [284.91, 269.6 ],\n",
      "       [330.59, 326.37],\n",
      "       [336.32, 317.25],\n",
      "       [270.9 , 243.  ],\n",
      "       [281.92, 281.62],\n",
      "       [310.98, 276.05],\n",
      "       [331.62, 280.25],\n",
      "       [277.66, 245.63],\n",
      "       [280.74, 245.94],\n",
      "       [298.79, 271.52],\n",
      "       [249.68, 238.07]])>, <tf.Tensor: shape=(16,), dtype=string, numpy=\n",
      "array([b'12/01/2022', b'04/01/2022', b'01/01/2023', b'04/01/2021',\n",
      "       b'06/01/2022', b'07/01/2021', b'11/01/2021', b'12/01/2021',\n",
      "       b'06/01/2021', b'09/01/2021', b'01/01/2022', b'10/01/2021',\n",
      "       b'03/01/2023', b'07/01/2022', b'02/01/2022', b'05/01/2021'],\n",
      "      dtype=object)>)\n"
     ]
    }
   ],
   "source": [
    "for item in dataset:\n",
    "    print(item)"
   ]
  },
  {
   "cell_type": "code",
   "execution_count": null,
   "id": "302dfabe-6097-42a2-9e41-8e1d335198cc",
   "metadata": {},
   "outputs": [],
   "source": []
  }
 ],
 "metadata": {
  "kernelspec": {
   "display_name": "ML environment",
   "language": "python",
   "name": "mlenv"
  },
  "language_info": {
   "codemirror_mode": {
    "name": "ipython",
    "version": 3
   },
   "file_extension": ".py",
   "mimetype": "text/x-python",
   "name": "python",
   "nbconvert_exporter": "python",
   "pygments_lexer": "ipython3",
   "version": "3.10.4"
  }
 },
 "nbformat": 4,
 "nbformat_minor": 5
}
