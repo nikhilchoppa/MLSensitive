{
 "cells": [
  {
   "cell_type": "markdown",
   "id": "52c8a271-6c3d-4ec6-933f-5f8239787758",
   "metadata": {},
   "source": [
    "# Import Raw Packages"
   ]
  },
  {
   "cell_type": "code",
   "execution_count": 24,
   "id": "d5c3eb8e-f661-4147-89f4-d4ea681b51f5",
   "metadata": {},
   "outputs": [],
   "source": [
    "import numpy as np\n",
    "import pandas as pd\n",
    "\n",
    "# Data Viz\n",
    "import plotly.graph_objs as go"
   ]
  },
  {
   "cell_type": "code",
   "execution_count": 25,
   "id": "90240228-d143-4313-b81d-ff9e5c74855d",
   "metadata": {},
   "outputs": [],
   "source": [
    "# Data Sources\n",
    "from pandas_datareader import data, wb\n",
    "import pandas_datareader.data as data"
   ]
  },
  {
   "cell_type": "code",
   "execution_count": 26,
   "id": "f0259cf0-e8fd-4a4b-858e-cfe836afe7bb",
   "metadata": {},
   "outputs": [],
   "source": [
    "# Convert date in the right format\n",
    "# Today's date as variable\n",
    "import datetime\n",
    "from datetime import date"
   ]
  },
  {
   "cell_type": "code",
   "execution_count": 39,
   "id": "6fc99ac5-6d4f-4e0b-9d18-41ff32209d15",
   "metadata": {},
   "outputs": [],
   "source": [
    "startdate = datetime.datetime(2022, 1, 1).strftime('%Y-%m-%d')\n",
    "enddate = datetime.datetime.today().strftime('%Y-%m-%d')"
   ]
  },
  {
   "cell_type": "code",
   "execution_count": 40,
   "id": "a804953d-c059-4c9c-a4db-059a30d7683e",
   "metadata": {},
   "outputs": [
    {
     "data": {
      "text/plain": [
       "'2022-01-01'"
      ]
     },
     "execution_count": 40,
     "metadata": {},
     "output_type": "execute_result"
    }
   ],
   "source": [
    "startdate"
   ]
  },
  {
   "cell_type": "code",
   "execution_count": 41,
   "id": "f26e3a81-519f-49bd-8114-87b86e7d7830",
   "metadata": {},
   "outputs": [
    {
     "data": {
      "text/plain": [
       "'2023-03-21'"
      ]
     },
     "execution_count": 41,
     "metadata": {},
     "output_type": "execute_result"
    }
   ],
   "source": [
    "enddate"
   ]
  },
  {
   "cell_type": "markdown",
   "id": "40efebeb-212c-4a24-89ed-6f93d2ced434",
   "metadata": {},
   "source": [
    "## Yahoo Finance"
   ]
  },
  {
   "cell_type": "code",
   "execution_count": 45,
   "id": "33a5217c-d8ac-4393-a778-73c04c36e07f",
   "metadata": {},
   "outputs": [
    {
     "ename": "TypeError",
     "evalue": "string indices must be integers",
     "output_type": "error",
     "traceback": [
      "\u001B[0;31m---------------------------------------------------------------------------\u001B[0m",
      "\u001B[0;31mTypeError\u001B[0m                                 Traceback (most recent call last)",
      "\u001B[0;32m/var/folders/tz/z5m6fg7905g1b0zpb1g0vm680000gn/T/ipykernel_56387/2857724739.py\u001B[0m in \u001B[0;36m<module>\u001B[0;34m\u001B[0m\n\u001B[0;32m----> 1\u001B[0;31m \u001B[0mdf\u001B[0m \u001B[0;34m=\u001B[0m \u001B[0mdata\u001B[0m\u001B[0;34m.\u001B[0m\u001B[0mDataReader\u001B[0m\u001B[0;34m(\u001B[0m\u001B[0;34m\"SPY\"\u001B[0m\u001B[0;34m,\u001B[0m \u001B[0;34m'yahoo'\u001B[0m\u001B[0;34m,\u001B[0m \u001B[0mstartdate\u001B[0m\u001B[0;34m,\u001B[0m \u001B[0menddate\u001B[0m\u001B[0;34m)\u001B[0m\u001B[0;34m\u001B[0m\u001B[0;34m\u001B[0m\u001B[0m\n\u001B[0m\u001B[1;32m      2\u001B[0m \u001B[0mdf\u001B[0m\u001B[0;34m\u001B[0m\u001B[0;34m\u001B[0m\u001B[0m\n",
      "\u001B[0;32m~/opt/anaconda3/lib/python3.10/site-packages/pandas/util/_decorators.py\u001B[0m in \u001B[0;36mwrapper\u001B[0;34m(*args, **kwargs)\u001B[0m\n\u001B[1;32m    209\u001B[0m                 \u001B[0;32melse\u001B[0m\u001B[0;34m:\u001B[0m\u001B[0;34m\u001B[0m\u001B[0;34m\u001B[0m\u001B[0m\n\u001B[1;32m    210\u001B[0m                     \u001B[0mkwargs\u001B[0m\u001B[0;34m[\u001B[0m\u001B[0mnew_arg_name\u001B[0m\u001B[0;34m]\u001B[0m \u001B[0;34m=\u001B[0m \u001B[0mnew_arg_value\u001B[0m\u001B[0;34m\u001B[0m\u001B[0;34m\u001B[0m\u001B[0m\n\u001B[0;32m--> 211\u001B[0;31m             \u001B[0;32mreturn\u001B[0m \u001B[0mfunc\u001B[0m\u001B[0;34m(\u001B[0m\u001B[0;34m*\u001B[0m\u001B[0margs\u001B[0m\u001B[0;34m,\u001B[0m \u001B[0;34m**\u001B[0m\u001B[0mkwargs\u001B[0m\u001B[0;34m)\u001B[0m\u001B[0;34m\u001B[0m\u001B[0;34m\u001B[0m\u001B[0m\n\u001B[0m\u001B[1;32m    212\u001B[0m \u001B[0;34m\u001B[0m\u001B[0m\n\u001B[1;32m    213\u001B[0m         \u001B[0;32mreturn\u001B[0m \u001B[0mcast\u001B[0m\u001B[0;34m(\u001B[0m\u001B[0mF\u001B[0m\u001B[0;34m,\u001B[0m \u001B[0mwrapper\u001B[0m\u001B[0;34m)\u001B[0m\u001B[0;34m\u001B[0m\u001B[0;34m\u001B[0m\u001B[0m\n",
      "\u001B[0;32m~/opt/anaconda3/lib/python3.10/site-packages/pandas_datareader/data.py\u001B[0m in \u001B[0;36mDataReader\u001B[0;34m(name, data_source, start, end, retry_count, pause, session, api_key)\u001B[0m\n\u001B[1;32m    377\u001B[0m             \u001B[0mpause\u001B[0m\u001B[0;34m=\u001B[0m\u001B[0mpause\u001B[0m\u001B[0;34m,\u001B[0m\u001B[0;34m\u001B[0m\u001B[0;34m\u001B[0m\u001B[0m\n\u001B[1;32m    378\u001B[0m             \u001B[0msession\u001B[0m\u001B[0;34m=\u001B[0m\u001B[0msession\u001B[0m\u001B[0;34m,\u001B[0m\u001B[0;34m\u001B[0m\u001B[0;34m\u001B[0m\u001B[0m\n\u001B[0;32m--> 379\u001B[0;31m         ).read()\n\u001B[0m\u001B[1;32m    380\u001B[0m \u001B[0;34m\u001B[0m\u001B[0m\n\u001B[1;32m    381\u001B[0m     \u001B[0;32melif\u001B[0m \u001B[0mdata_source\u001B[0m \u001B[0;34m==\u001B[0m \u001B[0;34m\"iex\"\u001B[0m\u001B[0;34m:\u001B[0m\u001B[0;34m\u001B[0m\u001B[0;34m\u001B[0m\u001B[0m\n",
      "\u001B[0;32m~/opt/anaconda3/lib/python3.10/site-packages/pandas_datareader/base.py\u001B[0m in \u001B[0;36mread\u001B[0;34m(self)\u001B[0m\n\u001B[1;32m    251\u001B[0m         \u001B[0;31m# If a single symbol, (e.g., 'GOOG')\u001B[0m\u001B[0;34m\u001B[0m\u001B[0;34m\u001B[0m\u001B[0m\n\u001B[1;32m    252\u001B[0m         \u001B[0;32mif\u001B[0m \u001B[0misinstance\u001B[0m\u001B[0;34m(\u001B[0m\u001B[0mself\u001B[0m\u001B[0;34m.\u001B[0m\u001B[0msymbols\u001B[0m\u001B[0;34m,\u001B[0m \u001B[0;34m(\u001B[0m\u001B[0mstring_types\u001B[0m\u001B[0;34m,\u001B[0m \u001B[0mint\u001B[0m\u001B[0;34m)\u001B[0m\u001B[0;34m)\u001B[0m\u001B[0;34m:\u001B[0m\u001B[0;34m\u001B[0m\u001B[0;34m\u001B[0m\u001B[0m\n\u001B[0;32m--> 253\u001B[0;31m             \u001B[0mdf\u001B[0m \u001B[0;34m=\u001B[0m \u001B[0mself\u001B[0m\u001B[0;34m.\u001B[0m\u001B[0m_read_one_data\u001B[0m\u001B[0;34m(\u001B[0m\u001B[0mself\u001B[0m\u001B[0;34m.\u001B[0m\u001B[0murl\u001B[0m\u001B[0;34m,\u001B[0m \u001B[0mparams\u001B[0m\u001B[0;34m=\u001B[0m\u001B[0mself\u001B[0m\u001B[0;34m.\u001B[0m\u001B[0m_get_params\u001B[0m\u001B[0;34m(\u001B[0m\u001B[0mself\u001B[0m\u001B[0;34m.\u001B[0m\u001B[0msymbols\u001B[0m\u001B[0;34m)\u001B[0m\u001B[0;34m)\u001B[0m\u001B[0;34m\u001B[0m\u001B[0;34m\u001B[0m\u001B[0m\n\u001B[0m\u001B[1;32m    254\u001B[0m         \u001B[0;31m# Or multiple symbols, (e.g., ['GOOG', 'AAPL', 'MSFT'])\u001B[0m\u001B[0;34m\u001B[0m\u001B[0;34m\u001B[0m\u001B[0m\n\u001B[1;32m    255\u001B[0m         \u001B[0;32melif\u001B[0m \u001B[0misinstance\u001B[0m\u001B[0;34m(\u001B[0m\u001B[0mself\u001B[0m\u001B[0;34m.\u001B[0m\u001B[0msymbols\u001B[0m\u001B[0;34m,\u001B[0m \u001B[0mDataFrame\u001B[0m\u001B[0;34m)\u001B[0m\u001B[0;34m:\u001B[0m\u001B[0;34m\u001B[0m\u001B[0;34m\u001B[0m\u001B[0m\n",
      "\u001B[0;32m~/opt/anaconda3/lib/python3.10/site-packages/pandas_datareader/yahoo/daily.py\u001B[0m in \u001B[0;36m_read_one_data\u001B[0;34m(self, url, params)\u001B[0m\n\u001B[1;32m    151\u001B[0m         \u001B[0;32mtry\u001B[0m\u001B[0;34m:\u001B[0m\u001B[0;34m\u001B[0m\u001B[0;34m\u001B[0m\u001B[0m\n\u001B[1;32m    152\u001B[0m             \u001B[0mj\u001B[0m \u001B[0;34m=\u001B[0m \u001B[0mjson\u001B[0m\u001B[0;34m.\u001B[0m\u001B[0mloads\u001B[0m\u001B[0;34m(\u001B[0m\u001B[0mre\u001B[0m\u001B[0;34m.\u001B[0m\u001B[0msearch\u001B[0m\u001B[0;34m(\u001B[0m\u001B[0mptrn\u001B[0m\u001B[0;34m,\u001B[0m \u001B[0mresp\u001B[0m\u001B[0;34m.\u001B[0m\u001B[0mtext\u001B[0m\u001B[0;34m,\u001B[0m \u001B[0mre\u001B[0m\u001B[0;34m.\u001B[0m\u001B[0mDOTALL\u001B[0m\u001B[0;34m)\u001B[0m\u001B[0;34m.\u001B[0m\u001B[0mgroup\u001B[0m\u001B[0;34m(\u001B[0m\u001B[0;36m1\u001B[0m\u001B[0;34m)\u001B[0m\u001B[0;34m)\u001B[0m\u001B[0;34m\u001B[0m\u001B[0;34m\u001B[0m\u001B[0m\n\u001B[0;32m--> 153\u001B[0;31m             \u001B[0mdata\u001B[0m \u001B[0;34m=\u001B[0m \u001B[0mj\u001B[0m\u001B[0;34m[\u001B[0m\u001B[0;34m\"context\"\u001B[0m\u001B[0;34m]\u001B[0m\u001B[0;34m[\u001B[0m\u001B[0;34m\"dispatcher\"\u001B[0m\u001B[0;34m]\u001B[0m\u001B[0;34m[\u001B[0m\u001B[0;34m\"stores\"\u001B[0m\u001B[0;34m]\u001B[0m\u001B[0;34m[\u001B[0m\u001B[0;34m\"HistoricalPriceStore\"\u001B[0m\u001B[0;34m]\u001B[0m\u001B[0;34m\u001B[0m\u001B[0;34m\u001B[0m\u001B[0m\n\u001B[0m\u001B[1;32m    154\u001B[0m         \u001B[0;32mexcept\u001B[0m \u001B[0mKeyError\u001B[0m\u001B[0;34m:\u001B[0m\u001B[0;34m\u001B[0m\u001B[0;34m\u001B[0m\u001B[0m\n\u001B[1;32m    155\u001B[0m             \u001B[0mmsg\u001B[0m \u001B[0;34m=\u001B[0m \u001B[0;34m\"No data fetched for symbol {} using {}\"\u001B[0m\u001B[0;34m\u001B[0m\u001B[0;34m\u001B[0m\u001B[0m\n",
      "\u001B[0;31mTypeError\u001B[0m: string indices must be integers"
     ]
    }
   ],
   "source": [
    "df = data.DataReader(\"SPY\", 'yahoo', startdate, enddate)\n",
    "df"
   ]
  },
  {
   "cell_type": "markdown",
   "id": "4fbdda69-0320-4bdc-a9d2-24f572d16270",
   "metadata": {},
   "source": [
    "## Google Finance"
   ]
  },
  {
   "cell_type": "code",
   "execution_count": 53,
   "id": "4f93ff03-c90b-48ff-864a-cae98cfda796",
   "metadata": {},
   "outputs": [
    {
     "data": {
      "text/html": [
       "<div>\n",
       "<style scoped>\n",
       "    .dataframe tbody tr th:only-of-type {\n",
       "        vertical-align: middle;\n",
       "    }\n",
       "\n",
       "    .dataframe tbody tr th {\n",
       "        vertical-align: top;\n",
       "    }\n",
       "\n",
       "    .dataframe thead th {\n",
       "        text-align: right;\n",
       "    }\n",
       "</style>\n",
       "<table border=\"1\" class=\"dataframe\">\n",
       "  <thead>\n",
       "    <tr style=\"text-align: right;\">\n",
       "      <th></th>\n",
       "      <th>Open</th>\n",
       "      <th>High</th>\n",
       "      <th>Low</th>\n",
       "      <th>Close</th>\n",
       "      <th>Volume</th>\n",
       "    </tr>\n",
       "    <tr>\n",
       "      <th>Date</th>\n",
       "      <th></th>\n",
       "      <th></th>\n",
       "      <th></th>\n",
       "      <th></th>\n",
       "      <th></th>\n",
       "    </tr>\n",
       "  </thead>\n",
       "  <tbody>\n",
       "    <tr>\n",
       "      <th>2023-03-21</th>\n",
       "      <td>98.140</td>\n",
       "      <td>100.845</td>\n",
       "      <td>98.000</td>\n",
       "      <td>100.610</td>\n",
       "      <td>58597275</td>\n",
       "    </tr>\n",
       "    <tr>\n",
       "      <th>2023-03-20</th>\n",
       "      <td>98.410</td>\n",
       "      <td>98.480</td>\n",
       "      <td>95.700</td>\n",
       "      <td>97.710</td>\n",
       "      <td>62388911</td>\n",
       "    </tr>\n",
       "    <tr>\n",
       "      <th>2023-03-17</th>\n",
       "      <td>99.790</td>\n",
       "      <td>100.660</td>\n",
       "      <td>97.455</td>\n",
       "      <td>98.950</td>\n",
       "      <td>87300242</td>\n",
       "    </tr>\n",
       "    <tr>\n",
       "      <th>2023-03-16</th>\n",
       "      <td>95.750</td>\n",
       "      <td>100.990</td>\n",
       "      <td>95.610</td>\n",
       "      <td>100.040</td>\n",
       "      <td>84558934</td>\n",
       "    </tr>\n",
       "    <tr>\n",
       "      <th>2023-03-15</th>\n",
       "      <td>93.220</td>\n",
       "      <td>96.670</td>\n",
       "      <td>93.070</td>\n",
       "      <td>96.200</td>\n",
       "      <td>70731792</td>\n",
       "    </tr>\n",
       "    <tr>\n",
       "      <th>...</th>\n",
       "      <td>...</td>\n",
       "      <td>...</td>\n",
       "      <td>...</td>\n",
       "      <td>...</td>\n",
       "      <td>...</td>\n",
       "    </tr>\n",
       "    <tr>\n",
       "      <th>2022-01-07</th>\n",
       "      <td>163.839</td>\n",
       "      <td>165.243</td>\n",
       "      <td>162.031</td>\n",
       "      <td>162.554</td>\n",
       "      <td>46605900</td>\n",
       "    </tr>\n",
       "    <tr>\n",
       "      <th>2022-01-06</th>\n",
       "      <td>163.450</td>\n",
       "      <td>164.800</td>\n",
       "      <td>161.937</td>\n",
       "      <td>163.254</td>\n",
       "      <td>51957780</td>\n",
       "    </tr>\n",
       "    <tr>\n",
       "      <th>2022-01-05</th>\n",
       "      <td>166.883</td>\n",
       "      <td>167.126</td>\n",
       "      <td>164.357</td>\n",
       "      <td>164.357</td>\n",
       "      <td>64302720</td>\n",
       "    </tr>\n",
       "    <tr>\n",
       "      <th>2022-01-04</th>\n",
       "      <td>170.438</td>\n",
       "      <td>171.400</td>\n",
       "      <td>166.349</td>\n",
       "      <td>167.522</td>\n",
       "      <td>70725160</td>\n",
       "    </tr>\n",
       "    <tr>\n",
       "      <th>2022-01-03</th>\n",
       "      <td>167.550</td>\n",
       "      <td>170.704</td>\n",
       "      <td>166.160</td>\n",
       "      <td>170.404</td>\n",
       "      <td>63869140</td>\n",
       "    </tr>\n",
       "  </tbody>\n",
       "</table>\n",
       "<p>305 rows × 5 columns</p>\n",
       "</div>"
      ],
      "text/plain": [
       "               Open     High      Low    Close    Volume\n",
       "Date                                                    \n",
       "2023-03-21   98.140  100.845   98.000  100.610  58597275\n",
       "2023-03-20   98.410   98.480   95.700   97.710  62388911\n",
       "2023-03-17   99.790  100.660   97.455   98.950  87300242\n",
       "2023-03-16   95.750  100.990   95.610  100.040  84558934\n",
       "2023-03-15   93.220   96.670   93.070   96.200  70731792\n",
       "...             ...      ...      ...      ...       ...\n",
       "2022-01-07  163.839  165.243  162.031  162.554  46605900\n",
       "2022-01-06  163.450  164.800  161.937  163.254  51957780\n",
       "2022-01-05  166.883  167.126  164.357  164.357  64302720\n",
       "2022-01-04  170.438  171.400  166.349  167.522  70725160\n",
       "2022-01-03  167.550  170.704  166.160  170.404  63869140\n",
       "\n",
       "[305 rows x 5 columns]"
      ]
     },
     "execution_count": 53,
     "metadata": {},
     "output_type": "execute_result"
    }
   ],
   "source": [
    "data.DataReader(\"AMZN\",'stooq', startdate, enddate)"
   ]
  },
  {
   "cell_type": "markdown",
   "id": "00ea1ca0-edce-4adc-b029-90f4077a3c0c",
   "metadata": {},
   "source": [
    "### AlphaVantage API for forex data"
   ]
  },
  {
   "cell_type": "code",
   "execution_count": 54,
   "id": "bf58517a-0474-42b1-8586-f12d6373f956",
   "metadata": {},
   "outputs": [
    {
     "data": {
      "text/html": [
       "<div>\n",
       "<style scoped>\n",
       "    .dataframe tbody tr th:only-of-type {\n",
       "        vertical-align: middle;\n",
       "    }\n",
       "\n",
       "    .dataframe tbody tr th {\n",
       "        vertical-align: top;\n",
       "    }\n",
       "\n",
       "    .dataframe thead th {\n",
       "        text-align: right;\n",
       "    }\n",
       "</style>\n",
       "<table border=\"1\" class=\"dataframe\">\n",
       "  <thead>\n",
       "    <tr style=\"text-align: right;\">\n",
       "      <th></th>\n",
       "      <th>EUR/USD</th>\n",
       "    </tr>\n",
       "  </thead>\n",
       "  <tbody>\n",
       "    <tr>\n",
       "      <th>From_Currency Code</th>\n",
       "      <td>EUR</td>\n",
       "    </tr>\n",
       "    <tr>\n",
       "      <th>From_Currency Name</th>\n",
       "      <td>Euro</td>\n",
       "    </tr>\n",
       "    <tr>\n",
       "      <th>To_Currency Code</th>\n",
       "      <td>USD</td>\n",
       "    </tr>\n",
       "    <tr>\n",
       "      <th>To_Currency Name</th>\n",
       "      <td>United States Dollar</td>\n",
       "    </tr>\n",
       "    <tr>\n",
       "      <th>Exchange Rate</th>\n",
       "      <td>1.08506940</td>\n",
       "    </tr>\n",
       "    <tr>\n",
       "      <th>Last Refreshed</th>\n",
       "      <td>2023-03-22 18:35:01</td>\n",
       "    </tr>\n",
       "    <tr>\n",
       "      <th>Time Zone</th>\n",
       "      <td>UTC</td>\n",
       "    </tr>\n",
       "    <tr>\n",
       "      <th>Bid Price</th>\n",
       "      <td>1.08503766</td>\n",
       "    </tr>\n",
       "    <tr>\n",
       "      <th>Ask Price</th>\n",
       "      <td>1.08510113</td>\n",
       "    </tr>\n",
       "  </tbody>\n",
       "</table>\n",
       "</div>"
      ],
      "text/plain": [
       "                                 EUR/USD\n",
       "From_Currency Code                   EUR\n",
       "From_Currency Name                  Euro\n",
       "To_Currency Code                     USD\n",
       "To_Currency Name    United States Dollar\n",
       "Exchange Rate                 1.08506940\n",
       "Last Refreshed       2023-03-22 18:35:01\n",
       "Time Zone                            UTC\n",
       "Bid Price                     1.08503766\n",
       "Ask Price                     1.08510113"
      ]
     },
     "execution_count": 54,
     "metadata": {},
     "output_type": "execute_result"
    }
   ],
   "source": [
    "# GBP to USD\n",
    "data.DataReader(\"EUR/USD\", 'av-forex', startdate, enddate, api_key='87HJVKT4AOZ1LYOY')"
   ]
  },
  {
   "cell_type": "code",
   "execution_count": null,
   "id": "8e572305-efb2-4fc3-8ed8-f0b2f37ca8a1",
   "metadata": {},
   "outputs": [],
   "source": [
    "# "
   ]
  }
 ],
 "metadata": {
  "kernelspec": {
   "display_name": "Python 3 (ipykernel)",
   "language": "python",
   "name": "python3"
  },
  "language_info": {
   "codemirror_mode": {
    "name": "ipython",
    "version": 3
   },
   "file_extension": ".py",
   "mimetype": "text/x-python",
   "name": "python",
   "nbconvert_exporter": "python",
   "pygments_lexer": "ipython3",
   "version": "3.10.4"
  }
 },
 "nbformat": 4,
 "nbformat_minor": 5
}
