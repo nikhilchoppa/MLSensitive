{
 "cells": [
  {
   "cell_type": "markdown",
   "id": "1f0ef52e-e7ec-4b67-b796-cffa692d967d",
   "metadata": {},
   "source": [
    "# 1st option to build a sequential model"
   ]
  },
  {
   "cell_type": "code",
   "execution_count": 3,
   "id": "ad21b0d9-1204-4da5-b5c7-dc806f42dee9",
   "metadata": {},
   "outputs": [],
   "source": [
    "import tensorflow as tf"
   ]
  },
  {
   "cell_type": "code",
   "execution_count": 4,
   "id": "0ac66a97-4751-4309-bc6b-4359d2b52ff3",
   "metadata": {},
   "outputs": [],
   "source": [
    "model = tf.keras.Sequential()"
   ]
  },
  {
   "cell_type": "code",
   "execution_count": 7,
   "id": "b3a69d8b-e841-47cb-94be-b9e2bcf73022",
   "metadata": {},
   "outputs": [],
   "source": [
    "model.add(\n",
    "    tf.keras.layers.Dense(32, input_shape=(10, ), activation = 'relu')\n",
    ")\n"
   ]
  },
  {
   "cell_type": "code",
   "execution_count": 8,
   "id": "430bdcec-5008-4a49-aae7-c61a3da3b7b2",
   "metadata": {},
   "outputs": [],
   "source": [
    "model.add(\n",
    "    tf.keras.layers.Dense(2, activation='softmax')\n",
    ")\n",
    "# If our outputlayer is\n",
    "# 0 or 1 we use 'sigmoid'\n",
    "# multiple outputs [0.756, 0.012] then we take the maximum value 0.756 as the answer, we use 'softmax' activation function."
   ]
  },
  {
   "cell_type": "code",
   "execution_count": 9,
   "id": "e7049098-a86e-4b25-99c5-0205270c607b",
   "metadata": {},
   "outputs": [
    {
     "name": "stdout",
     "output_type": "stream",
     "text": [
      "Model: \"sequential_1\"\n",
      "_________________________________________________________________\n",
      " Layer (type)                Output Shape              Param #   \n",
      "=================================================================\n",
      " dense (Dense)               (None, 32)                352       \n",
      "                                                                 \n",
      " dense_1 (Dense)             (None, 2)                 66        \n",
      "                                                                 \n",
      "=================================================================\n",
      "Total params: 418\n",
      "Trainable params: 418\n",
      "Non-trainable params: 0\n",
      "_________________________________________________________________\n"
     ]
    }
   ],
   "source": [
    "model.summary()"
   ]
  },
  {
   "cell_type": "markdown",
   "id": "cc7de7e7-36e2-4ca4-9bb9-7574590a38c7",
   "metadata": {},
   "source": [
    "# 2nd option to build a sequential model"
   ]
  },
  {
   "cell_type": "code",
   "execution_count": 10,
   "id": "22077cb8-20be-4b0f-895a-0d91602974cf",
   "metadata": {},
   "outputs": [],
   "source": [
    "# without using add method\n",
    "# we are inserting each layer as a item within the list\n",
    "model = tf.keras.Sequential([\n",
    "    tf.keras.layers.Dense(32, input_shape=(10, ), activation = 'relu'), \n",
    "    tf.keras.layers.Dense(2, activation='softmax')\n",
    "    \n",
    "])"
   ]
  },
  {
   "cell_type": "code",
   "execution_count": 11,
   "id": "4edd690c-3c7f-4c3f-bf6d-1344ce82715d",
   "metadata": {},
   "outputs": [
    {
     "name": "stdout",
     "output_type": "stream",
     "text": [
      "Model: \"sequential_2\"\n",
      "_________________________________________________________________\n",
      " Layer (type)                Output Shape              Param #   \n",
      "=================================================================\n",
      " dense_2 (Dense)             (None, 32)                352       \n",
      "                                                                 \n",
      " dense_3 (Dense)             (None, 2)                 66        \n",
      "                                                                 \n",
      "=================================================================\n",
      "Total params: 418\n",
      "Trainable params: 418\n",
      "Non-trainable params: 0\n",
      "_________________________________________________________________\n"
     ]
    }
   ],
   "source": [
    "model.summary()"
   ]
  },
  {
   "cell_type": "code",
   "execution_count": null,
   "id": "b552f1c0-b866-44bb-bd07-6c056be5ca06",
   "metadata": {},
   "outputs": [],
   "source": []
  }
 ],
 "metadata": {
  "kernelspec": {
   "display_name": "ML environment",
   "language": "python",
   "name": "mlenv"
  },
  "language_info": {
   "codemirror_mode": {
    "name": "ipython",
    "version": 3
   },
   "file_extension": ".py",
   "mimetype": "text/x-python",
   "name": "python",
   "nbconvert_exporter": "python",
   "pygments_lexer": "ipython3",
   "version": "3.10.4"
  }
 },
 "nbformat": 4,
 "nbformat_minor": 5
}
