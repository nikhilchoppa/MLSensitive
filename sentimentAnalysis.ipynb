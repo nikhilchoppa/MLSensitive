{
 "cells": [
  {
   "cell_type": "code",
   "execution_count": 19,
   "id": "bf36a52a",
   "metadata": {},
   "outputs": [],
   "source": [
    "import tweepy\n",
    "import os\n",
    "import re\n",
    "import pickle\n",
    "import tensorflow as tf\n",
    "import numpy as np\n",
    "import matplotlib.pyplot as plt\n",
    "from datetime import datetime, timedelta\n",
    "from sklearn.model_selection import train_test_split\n",
    "from tensorflow.keras.preprocessing.sequence import pad_sequences\n",
    "from tensorflow.keras.models import Sequential\n",
    "from tensorflow.keras.layers import Dense, Embedding, GlobalAveragePooling1D\n",
    "from tensorflow.keras.optimizers import Adam\n",
    "from tensorflow.keras.losses import SparseCategoricalCrossentropy\n",
    "from tensorflow.keras.preprocessing.text import Tokenizer\n",
    "from tensorflow.keras.callbacks import EarlyStopping"
   ]
  },
  {
   "cell_type": "code",
   "execution_count": 20,
   "id": "5b9f2de2",
   "metadata": {},
   "outputs": [],
   "source": [
    "API_KEY = 'XO8NmVeoGjHQh0TLVamD6ABmO'\n",
    "API_SECRET_KEY = 'aXYlbOAjis1eKPnXEhCU9iDQNzdYuMcJDXRHREA4o3ukn1ZKvJ'\n",
    "ACCESS_TOKEN = '943525676186869760-rYpA0V2LNEhmLPFlSn0tptCeO7zUtpg'\n",
    "ACCESS_SECRET = '59Ts2d33oxC7L4ft85kIzGDsTQQY5AEWPB2ZjtL54T8D3'"
   ]
  },
  {
   "cell_type": "markdown",
   "id": "b667eaa1-8f39-4bdb-9af7-7927ba964a08",
   "metadata": {},
   "source": [
    "This function is responsible for authenticating and creating an instance of the Twitter API using Tweepy. It \n",
    "initializes an OAuthHandler object with the API_KEY and API_SECRET_KEY, sets the access token using ACCESS_TOKEN and \n",
    "ACCESS_SECRET, and creates a Tweepy API instance with the given authentication details. This API instance is then \n",
    "returned and used throughout the script to fetch tweets."
   ]
  },
  {
   "cell_type": "code",
   "execution_count": 21,
   "id": "a6d145d8",
   "metadata": {},
   "outputs": [],
   "source": [
    "def create_api():\n",
    "    auth = tweepy.OAuthHandler(API_KEY, API_SECRET_KEY)\n",
    "    auth.set_access_token(ACCESS_TOKEN, ACCESS_SECRET)\n",
    "    api = tweepy.API(auth, wait_on_rate_limit=True)\n",
    "    return api"
   ]
  },
  {
   "cell_type": "markdown",
   "id": "a72e3059-f929-4ab7-a8c4-b7574dbd78b4",
   "metadata": {},
   "source": [
    "This function takes a raw tweet as input and cleans it by removing mentions, URLs, and non-alphanumeric characters \n",
    "using a regular expression. It then returns the cleaned tweet text as a string."
   ]
  },
  {
   "cell_type": "code",
   "execution_count": 22,
   "id": "b534ecfe",
   "metadata": {},
   "outputs": [],
   "source": [
    "def clean_tweet(tweet):\n",
    "    return ' '.join(re.sub('(@[A-Za-z0-9]+)|([^0-9A-Za-z \\t])|(\\w+:\\/\\/\\S+)', ' ', tweet).split())"
   ]
  },
  {
   "cell_type": "markdown",
   "id": "7fde2681-95df-4c57-9dee-e1f3348d11d8",
   "metadata": {},
   "source": [
    "This function fetches tweets from the Twitter API using the provided API instance, search query, and count (\n",
    "default is 1000). It filters tweets based on the query, language (English), tweet mode (extended for full tweet \n",
    "text), and tweets posted within a specified time window. The fetched tweets are then cleaned and stored in a list of \n",
    "dictionaries containing the cleaned tweet text, which is returned."
   ]
  },
  {
   "cell_type": "code",
   "execution_count": 23,
   "id": "8e8077cc",
   "metadata": {},
   "outputs": [],
   "source": [
    "def get_tweets(api, query, count=1000):\n",
    "    tweets = []\n",
    "    until_datetime = datetime.now() - timedelta(hours=6)\n",
    "    until_str = until_datetime.strftime(\"%Y-%m-%d\")\n",
    "\n",
    "    fetched_tweets = tweepy.Cursor(api.search_tweets, q=query, lang=\"en\", tweet_mode=\"extended\", until=until_str).items(\n",
    "        count)\n",
    "\n",
    "    for tweet in fetched_tweets:\n",
    "        parsed_tweet = {'text': clean_tweet(tweet.full_text)}\n",
    "        tweets.append(parsed_tweet)\n",
    "\n",
    "    return tweets"
   ]
  },
  {
   "cell_type": "markdown",
   "id": "7e783b5f-4e04-4a4e-bd3c-a56bd3f7c7c3",
   "metadata": {},
   "source": [
    "This function calls the get_tweets() function to fetch tweets and then labels them based on their sentiment using \n",
    "the NLTK SentimentIntensityAnalyzer. The polarity score for each cleaned tweet is determined using the analyzer, \n",
    "and the tweet is labeled as positive (2), neutral (1), or negative (0) based on the polarity score. The function \n",
    "returns a list of tuples, each containing the cleaned tweet text and its corresponding sentiment label."
   ]
  },
  {
   "cell_type": "code",
   "execution_count": 24,
   "id": "b0f4e16c",
   "metadata": {},
   "outputs": [],
   "source": [
    "def get_labeled_tweets(api, query, count=1000):\n",
    "    tweets = get_tweets(api, query, count)\n",
    "    cleaned_tweets = [clean_tweet(tweet['text']) for tweet in tweets]\n",
    "\n",
    "    from nltk.sentiment import SentimentIntensityAnalyzer\n",
    "    sia = SentimentIntensityAnalyzer()\n",
    "\n",
    "    labeled_tweets = []\n",
    "    for tweet in cleaned_tweets:\n",
    "        sentiment = sia.polarity_scores(tweet)['compound']\n",
    "        if sentiment >= 0.05:\n",
    "            labeled_tweets.append((tweet, 2))\n",
    "        elif sentiment <= -0.05:\n",
    "            labeled_tweets.append((tweet, 0))\n",
    "        else:\n",
    "            labeled_tweets.append((tweet, 1))\n",
    "\n",
    "    return labeled_tweets"
   ]
  },
  {
   "cell_type": "markdown",
   "id": "d1bca252-370e-4ccd-b44c-ac1cc24fdaa1",
   "metadata": {},
   "source": [
    "This function builds a TensorFlow Sequential model for sentiment analysis. It takes a tokenizer and a number of \n",
    "labels as input and creates a model with an Embedding layer, GlobalAveragePooling1D layer, Dense layer with ReLU \n",
    "activation, and a final Dense layer with softmax activation for the sentiment labels. The model is compiled using the \n",
    "Adam optimizer, SparseCategoricalCrossentropy loss, and accuracy metric. The compiled model is then returned."
   ]
  },
  {
   "cell_type": "code",
   "execution_count": 25,
   "id": "ced9d5fc",
   "metadata": {},
   "outputs": [],
   "source": [
    "def create_model(tokenizer, labels_count):\n",
    "    model = Sequential([\n",
    "        Embedding(input_dim=len(tokenizer.word_index) + 1, output_dim=32, input_length=40),\n",
    "        GlobalAveragePooling1D(),\n",
    "        Dense(16, activation='relu'),\n",
    "        Dense(labels_count, activation='softmax')\n",
    "    ])\n",
    "\n",
    "    model.compile(\n",
    "        optimizer=Adam(learning_rate=0.001),\n",
    "        loss=SparseCategoricalCrossentropy(),\n",
    "        metrics=['accuracy']\n",
    "    )\n",
    "\n",
    "    return model"
   ]
  },
  {
   "cell_type": "markdown",
   "id": "430247df-f8df-4a0b-bd72-e37be11cb1f5",
   "metadata": {},
   "source": [
    "This function is responsible for training and saving the sentiment analysis model and tokenizer. It fetches \n",
    "labeled tweets using get_labeled_tweets(), tokenizes the tweet text, and pads the sequences. The training data is \n",
    "then split into training and test sets using a 67:33 ratio. The model is created, compiled, and trained using the \n",
    "create_model() function and early stopping callback. The trained model and tokenizer are then saved to disk as .h5 \n",
    "and .pickle files, respectively."
   ]
  },
  {
   "cell_type": "code",
   "execution_count": 26,
   "id": "849fb80c",
   "metadata": {},
   "outputs": [],
   "source": [
    "def train_and_save_model(query):\n",
    "    api = create_api()\n",
    "    labeled_tweets = get_labeled_tweets(api, query)\n",
    "    train_data = [tweet for tweet, label in labeled_tweets]\n",
    "    train_labels = [label for tweet, label in labeled_tweets]\n",
    "\n",
    "    tokenizer = Tokenizer(num_words=10000, oov_token=\"<OOV>\")\n",
    "    tokenizer.fit_on_texts(train_data)\n",
    "\n",
    "    train_sequences = tokenizer.texts_to_sequences(train_data)\n",
    "    padded_train_sequences = pad_sequences(train_sequences, maxlen=40, truncating=\"post\", padding=\"post\")\n",
    "\n",
    "    X_train, X_test, y_train, y_test = train_test_split(padded_train_sequences, np.array(train_labels), test_size=0.33,\n",
    "                                                        random_state=42)\n",
    "\n",
    "    model = create_model(tokenizer, labels_count=3)\n",
    "\n",
    "    early_stopping = EarlyStopping(patience=5, restore_best_weights=True)\n",
    "\n",
    "    model.fit(X_train, y_train, validation_data=(X_test, y_test), epochs=100, batch_size=10, callbacks=[early_stopping])\n",
    "\n",
    "    model_file = f'{query}_model.h5'\n",
    "    tokenizer_file = f'{query}_tokenizer.pickle'\n",
    "\n",
    "    model.save(model_file)\n",
    "\n",
    "    with open(tokenizer_file, 'wb') as handle:\n",
    "        pickle.dump(tokenizer, handle, protocol=pickle.HIGHEST_PROTOCOL)"
   ]
  },
  {
   "cell_type": "markdown",
   "id": "13d8e572-9a27-4889-8225-2310f605ba33",
   "metadata": {},
   "source": [
    "This function loads a pre-trained model and tokenizer from disk and predicts the sentiment of a given input text. \n",
    "If the required model and tokenizer files do not exist, the function calls train_and_save_model() to train and save a \n",
    "new model. The input text is tokenized and padded using the loaded tokenizer, and the sentiment prediction is made \n",
    "using the loaded model. The function returns the predicted sentiment probabilities."
   ]
  },
  {
   "cell_type": "code",
   "execution_count": 27,
   "id": "570ecc5f",
   "metadata": {},
   "outputs": [],
   "source": [
    "def predict_sentiment(query, text):\n",
    "    model_file = f'{query}_model.h5'\n",
    "    tokenizer_file = f'{query}_tokenizer.pickle'\n",
    "\n",
    "    if not os.path.exists(model_file) or not os.path.exists(tokenizer_file):\n",
    "        train_and_save_model(query)\n",
    "\n",
    "    with open(tokenizer_file, 'rb') as handle:\n",
    "        tokenizer = pickle.load(handle)\n",
    "\n",
    "    model = tf.keras.models.load_model(model_file)\n",
    "\n",
    "    sequence = tokenizer.texts_to_sequences([text])\n",
    "    padded_sequence = pad_sequences(sequence, maxlen=40, truncating=\"post\", padding=\"post\")\n",
    "\n",
    "    return model.predict(padded_sequence)"
   ]
  },
  {
   "cell_type": "markdown",
   "id": "14395ae2-63f1-4dcd-b1a0-45a7c4c9092e",
   "metadata": {},
   "source": [
    "This part of the script is responsible for executing the entire sentiment analysis process. It starts by prompting \n",
    "the user to input the stock or crypto symbol they wish to analyze. Then, it fetches tweets related to the given \n",
    "symbol using the get_tweets() function. For each fetched tweet, the script cleans the tweet text, predicts its \n",
    "sentiment using the predict_sentiment() function, and updates the sentiments dictionary accordingly."
   ]
  },
  {
   "cell_type": "code",
   "execution_count": 28,
   "id": "cf9770cc",
   "metadata": {},
   "outputs": [
    {
     "name": "stdin",
     "output_type": "stream",
     "text": [
      "Enter the stock or crypto symbol:  bitcoin\n"
     ]
    },
    {
     "name": "stdout",
     "output_type": "stream",
     "text": [
      "Epoch 1/100\n",
      "67/67 [==============================] - 0s 3ms/step - loss: 1.0542 - accuracy: 0.4149 - val_loss: 0.9880 - val_accuracy: 0.4515\n",
      "Epoch 2/100\n",
      "67/67 [==============================] - 0s 1ms/step - loss: 0.9486 - accuracy: 0.5328 - val_loss: 0.8792 - val_accuracy: 0.6909\n",
      "Epoch 3/100\n",
      "67/67 [==============================] - 0s 1ms/step - loss: 0.8233 - accuracy: 0.7239 - val_loss: 0.7552 - val_accuracy: 0.7182\n",
      "Epoch 4/100\n",
      "67/67 [==============================] - 0s 1ms/step - loss: 0.6851 - accuracy: 0.7896 - val_loss: 0.6556 - val_accuracy: 0.7485\n",
      "Epoch 5/100\n",
      "67/67 [==============================] - 0s 1ms/step - loss: 0.5670 - accuracy: 0.8045 - val_loss: 0.5931 - val_accuracy: 0.7364\n",
      "Epoch 6/100\n",
      "67/67 [==============================] - 0s 1ms/step - loss: 0.4695 - accuracy: 0.8209 - val_loss: 0.5469 - val_accuracy: 0.7758\n",
      "Epoch 7/100\n",
      "67/67 [==============================] - 0s 1ms/step - loss: 0.3882 - accuracy: 0.8537 - val_loss: 0.5133 - val_accuracy: 0.7727\n",
      "Epoch 8/100\n",
      "67/67 [==============================] - 0s 1ms/step - loss: 0.3180 - accuracy: 0.9060 - val_loss: 0.4950 - val_accuracy: 0.7727\n",
      "Epoch 9/100\n",
      "67/67 [==============================] - 0s 1ms/step - loss: 0.2507 - accuracy: 0.9418 - val_loss: 0.4761 - val_accuracy: 0.7879\n",
      "Epoch 10/100\n",
      "67/67 [==============================] - 0s 1ms/step - loss: 0.1948 - accuracy: 0.9731 - val_loss: 0.4651 - val_accuracy: 0.8061\n",
      "Epoch 11/100\n",
      "67/67 [==============================] - 0s 1ms/step - loss: 0.1528 - accuracy: 0.9761 - val_loss: 0.4627 - val_accuracy: 0.8091\n",
      "Epoch 12/100\n",
      "67/67 [==============================] - 0s 1ms/step - loss: 0.1211 - accuracy: 0.9836 - val_loss: 0.4684 - val_accuracy: 0.8000\n",
      "Epoch 13/100\n",
      "67/67 [==============================] - 0s 1ms/step - loss: 0.0983 - accuracy: 0.9851 - val_loss: 0.4745 - val_accuracy: 0.7879\n",
      "Epoch 14/100\n",
      "67/67 [==============================] - 0s 1ms/step - loss: 0.0799 - accuracy: 0.9925 - val_loss: 0.4703 - val_accuracy: 0.8121\n",
      "Epoch 15/100\n",
      "67/67 [==============================] - 0s 1ms/step - loss: 0.0667 - accuracy: 0.9910 - val_loss: 0.4769 - val_accuracy: 0.8121\n",
      "Epoch 16/100\n",
      "67/67 [==============================] - 0s 1ms/step - loss: 0.0553 - accuracy: 0.9925 - val_loss: 0.4852 - val_accuracy: 0.8121\n",
      "1/1 [==============================] - 0s 28ms/step\n",
      "1/1 [==============================] - 0s 27ms/step\n",
      "1/1 [==============================] - 0s 27ms/step\n",
      "1/1 [==============================] - 0s 27ms/step\n",
      "1/1 [==============================] - 0s 27ms/step\n",
      "1/1 [==============================] - 0s 27ms/step\n",
      "1/1 [==============================] - 0s 28ms/step\n",
      "1/1 [==============================] - 0s 28ms/step\n",
      "1/1 [==============================] - 0s 29ms/step\n",
      "1/1 [==============================] - 0s 28ms/step\n",
      "1/1 [==============================] - 0s 28ms/step\n",
      "1/1 [==============================] - 0s 28ms/step\n",
      "1/1 [==============================] - 0s 28ms/step\n",
      "1/1 [==============================] - 0s 27ms/step\n",
      "1/1 [==============================] - 0s 28ms/step\n",
      "1/1 [==============================] - 0s 27ms/step\n",
      "1/1 [==============================] - 0s 28ms/step\n",
      "1/1 [==============================] - 0s 28ms/step\n",
      "1/1 [==============================] - 0s 30ms/step\n",
      "1/1 [==============================] - 0s 29ms/step\n",
      "1/1 [==============================] - 0s 28ms/step\n",
      "1/1 [==============================] - 0s 29ms/step\n",
      "1/1 [==============================] - 0s 30ms/step\n",
      "1/1 [==============================] - 0s 29ms/step\n",
      "1/1 [==============================] - 0s 29ms/step\n",
      "1/1 [==============================] - 0s 29ms/step\n",
      "1/1 [==============================] - 0s 27ms/step\n",
      "1/1 [==============================] - 0s 29ms/step\n",
      "1/1 [==============================] - 0s 29ms/step\n",
      "1/1 [==============================] - 0s 28ms/step\n",
      "1/1 [==============================] - 0s 29ms/step\n",
      "1/1 [==============================] - 0s 28ms/step\n",
      "1/1 [==============================] - 0s 27ms/step\n",
      "1/1 [==============================] - 0s 28ms/step\n",
      "1/1 [==============================] - 0s 28ms/step\n",
      "1/1 [==============================] - 0s 29ms/step\n",
      "1/1 [==============================] - 0s 27ms/step\n",
      "1/1 [==============================] - 0s 27ms/step\n",
      "1/1 [==============================] - 0s 28ms/step\n",
      "1/1 [==============================] - 0s 28ms/step\n",
      "1/1 [==============================] - 0s 28ms/step\n",
      "1/1 [==============================] - 0s 28ms/step\n",
      "1/1 [==============================] - 0s 26ms/step\n",
      "1/1 [==============================] - 0s 29ms/step\n",
      "1/1 [==============================] - 0s 26ms/step\n",
      "1/1 [==============================] - 0s 30ms/step\n",
      "1/1 [==============================] - 0s 28ms/step\n",
      "1/1 [==============================] - 0s 28ms/step\n",
      "1/1 [==============================] - 0s 28ms/step\n",
      "1/1 [==============================] - 0s 29ms/step\n",
      "1/1 [==============================] - 0s 28ms/step\n",
      "1/1 [==============================] - 0s 28ms/step\n",
      "1/1 [==============================] - 0s 28ms/step\n",
      "1/1 [==============================] - 0s 29ms/step\n",
      "1/1 [==============================] - 0s 28ms/step\n",
      "1/1 [==============================] - 0s 29ms/step\n",
      "1/1 [==============================] - 0s 28ms/step\n",
      "1/1 [==============================] - 0s 30ms/step\n",
      "1/1 [==============================] - 0s 28ms/step\n",
      "1/1 [==============================] - 0s 28ms/step\n",
      "1/1 [==============================] - 0s 34ms/step\n",
      "1/1 [==============================] - 0s 35ms/step\n",
      "1/1 [==============================] - 0s 32ms/step\n",
      "1/1 [==============================] - 0s 29ms/step\n",
      "1/1 [==============================] - 0s 29ms/step\n",
      "1/1 [==============================] - 0s 29ms/step\n",
      "1/1 [==============================] - 0s 28ms/step\n",
      "1/1 [==============================] - 0s 28ms/step\n",
      "1/1 [==============================] - 0s 29ms/step\n",
      "1/1 [==============================] - 0s 30ms/step\n",
      "1/1 [==============================] - 0s 33ms/step\n",
      "1/1 [==============================] - 0s 29ms/step\n",
      "1/1 [==============================] - 0s 27ms/step\n",
      "1/1 [==============================] - 0s 30ms/step\n",
      "1/1 [==============================] - 0s 29ms/step\n",
      "1/1 [==============================] - 0s 29ms/step\n",
      "1/1 [==============================] - 0s 29ms/step\n",
      "1/1 [==============================] - 0s 29ms/step\n",
      "1/1 [==============================] - 0s 29ms/step\n",
      "1/1 [==============================] - 0s 29ms/step\n",
      "1/1 [==============================] - 0s 30ms/step\n",
      "1/1 [==============================] - 0s 29ms/step\n",
      "1/1 [==============================] - 0s 39ms/step\n",
      "1/1 [==============================] - 0s 29ms/step\n",
      "1/1 [==============================] - 0s 28ms/step\n",
      "1/1 [==============================] - 0s 28ms/step\n",
      "1/1 [==============================] - 0s 29ms/step\n",
      "1/1 [==============================] - 0s 28ms/step\n",
      "1/1 [==============================] - 0s 28ms/step\n",
      "1/1 [==============================] - 0s 28ms/step\n",
      "1/1 [==============================] - 0s 28ms/step\n",
      "1/1 [==============================] - 0s 29ms/step\n",
      "1/1 [==============================] - 0s 28ms/step\n",
      "1/1 [==============================] - 0s 28ms/step\n",
      "1/1 [==============================] - 0s 28ms/step\n",
      "1/1 [==============================] - 0s 28ms/step\n",
      "1/1 [==============================] - 0s 32ms/step\n",
      "1/1 [==============================] - 0s 29ms/step\n",
      "1/1 [==============================] - 0s 29ms/step\n",
      "1/1 [==============================] - 0s 31ms/step\n",
      "Sentiment analysis for bitcoin\n",
      "Positive: 50.00%\n",
      "Negative: 8.00%\n",
      "Neutral: 42.00%\n"
     ]
    },
    {
     "data": {
      "image/png": "[encoded data removed]",
      "text/plain": [
       "<Figure size 640x480 with 1 Axes>"
      ]
     },
     "metadata": {},
     "output_type": "display_data"
    },
    {
     "name": "stdout",
     "output_type": "stream",
     "text": [
      "\n",
      "Note: This sentiment analysis might not accurately capture sarcasm or nuanced expressions of sentiment.\n"
     ]
    }
   ],
   "source": [
    "query = input(\"Enter the stock or crypto symbol: \").lower()\n",
    "tweets = get_tweets(create_api(), query, count=100)\n",
    "sentiments = {\"positive\": 0, \"neutral\": 0, \"negative\": 0}\n",
    "\n",
    "for tweet in tweets:\n",
    "    text = clean_tweet(tweet['text'])\n",
    "    sentiment_prediction = predict_sentiment(query, text)\n",
    "    sentiment_label = sentiment_prediction.argmax(axis=-1)[0]\n",
    "\n",
    "    if sentiment_label == 0:\n",
    "        sentiments[\"negative\"] += 1\n",
    "    elif sentiment_label == 1:\n",
    "        sentiments[\"neutral\"] += 1\n",
    "    else:\n",
    "        sentiments[\"positive\"] += 1\n",
    "        \n",
    "total = sum(sentiments.values())\n",
    "positive_percentage = sentiments[\"positive\"] / total * 100\n",
    "negative_percentage = sentiments[\"negative\"] / total * 100\n",
    "neutral_percentage = sentiments[\"neutral\"] / total * 100\n",
    "\n",
    "print(f'Sentiment analysis for {query}')\n",
    "print(f'Positive: {positive_percentage:.2f}%')\n",
    "print(f'Negative: {negative_percentage:.2f}%')\n",
    "print(f'Neutral: {neutral_percentage:.2f}%')\n",
    "\n",
    "# Create the pie chart\n",
    "sizes = [positive_percentage, negative_percentage, neutral_percentage]\n",
    "labels = ['Positive', 'Negative', 'Neutral']\n",
    "colors = ['#33FF90', '#FF4500', '#B0C4DE']\n",
    "plt.pie(sizes, labels=labels, colors=colors, autopct='%1.1f%%', startangle=90)\n",
    "plt.axis('equal')\n",
    "\n",
    "# Display the chart\n",
    "plt.show()\n",
    "\n",
    "print('\\nNote: This sentiment analysis might not accurately capture sarcasm or nuanced expressions of sentiment.')"
   ]
  },
  {
   "cell_type": "code",
   "execution_count": null,
   "id": "fafd4e2d-d17f-43e8-a605-31178300a561",
   "metadata": {},
   "outputs": [],
   "source": []
  }
 ],
 "metadata": {
  "jupytext": {
   "cell_metadata_filter": "-all",
   "main_language": "python",
   "notebook_metadata_filter": "-all"
  },
  "kernelspec": {
   "display_name": "ML environment",
   "language": "python",
   "name": "mlenv"
  },
  "language_info": {
   "codemirror_mode": {
    "name": "ipython",
    "version": 3
   },
   "file_extension": ".py",
   "mimetype": "text/x-python",
   "name": "python",
   "nbconvert_exporter": "python",
   "pygments_lexer": "ipython3",
   "version": "3.10.4"
  }
 },
 "nbformat": 4,
 "nbformat_minor": 5
}
